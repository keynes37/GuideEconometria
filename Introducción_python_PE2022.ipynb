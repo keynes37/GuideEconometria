{
  "nbformat": 4,
  "nbformat_minor": 5,
  "metadata": {
    "kernelspec": {
      "display_name": "Python 3",
      "language": "python",
      "name": "python3"
    },
    "language_info": {
      "codemirror_mode": {
        "name": "ipython",
        "version": 3
      },
      "file_extension": ".py",
      "mimetype": "text/x-python",
      "name": "python",
      "nbconvert_exporter": "python",
      "pygments_lexer": "ipython3",
      "version": "3.8.8"
    },
    "colab": {
      "name": "Introducción python PE2022.ipynb",
      "provenance": [],
      "include_colab_link": true
    }
  },
  "cells": [
    {
      "cell_type": "markdown",
      "metadata": {
        "id": "view-in-github",
        "colab_type": "text"
      },
      "source": [
        "<a href=\"https://colab.research.google.com/github/keynes37/GuideEconometria/blob/main/Introducci%C3%B3n_python_PE2022.ipynb\" target=\"_parent\"><img src=\"https://colab.research.google.com/assets/colab-badge.svg\" alt=\"Open In Colab\"/></a>"
      ]
    },
    {
      "cell_type": "markdown",
      "metadata": {
        "id": "f03f8c4a"
      },
      "source": [
        "# Curso Introductorio Python (Data Science)"
      ],
      "id": "f03f8c4a"
    },
    {
      "cell_type": "markdown",
      "metadata": {
        "id": "e4070a7d"
      },
      "source": [
        "## Observatorio de las condiciones socioeconómicas del Atlantico (OCSA)\n",
        "## Universidad del Norte\n",
        "### Econ Class 2022\n",
        "\n",
        "#### Carlos Andrés Yanes Guerra\n",
        "Este es un curso a nivel introductorio del departamento de Economía de Python en el desarrollo de _XVI Jornada del OCSA_"
      ],
      "id": "e4070a7d"
    },
    {
      "cell_type": "code",
      "metadata": {
        "id": "tsK6BFcLzT4o",
        "colab": {
          "base_uri": "https://localhost:8080/"
        },
        "outputId": "2f562560-c70d-4167-94ee-dee4047cd3c7"
      },
      "source": [
        "from google.colab import drive\n",
        "drive.mount('/content/drive')"
      ],
      "id": "tsK6BFcLzT4o",
      "execution_count": 1,
      "outputs": [
        {
          "output_type": "stream",
          "name": "stdout",
          "text": [
            "Drive already mounted at /content/drive; to attempt to forcibly remount, call drive.mount(\"/content/drive\", force_remount=True).\n"
          ]
        }
      ]
    },
    {
      "cell_type": "markdown",
      "metadata": {
        "id": "d76a15e6"
      },
      "source": [
        "Python es un **lenguaje** de programación de fácil aplicación, puede encontrarlo en su web [side](https://www.python.org). Sirve para programar o escribir código tal como lo hacen programas como [Java](https://www.java.com/es/), [C++](https://es.wikipedia.org/wiki/C%2B%2B), entre otros.\n",
        "\n",
        "Un poco de su historia y su creador lo podemos encontrar acá:"
      ],
      "id": "d76a15e6"
    },
    {
      "cell_type": "code",
      "metadata": {
        "scrolled": true,
        "id": "d30bb321",
        "outputId": "f1b6817c-1f75-4f78-841f-478f4342a581",
        "colab": {
          "base_uri": "https://localhost:8080/",
          "height": 321
        }
      },
      "source": [
        "from IPython.display import YouTubeVideo\n",
        "\n",
        "YouTubeVideo('J0Aq44Pze-w', width=800, height=300)"
      ],
      "id": "d30bb321",
      "execution_count": 2,
      "outputs": [
        {
          "output_type": "execute_result",
          "data": {
            "text/plain": [
              "<IPython.lib.display.YouTubeVideo at 0x7fed492b5a10>"
            ],
            "text/html": [
              "\n",
              "        <iframe\n",
              "            width=\"800\"\n",
              "            height=\"300\"\n",
              "            src=\"https://www.youtube.com/embed/J0Aq44Pze-w\"\n",
              "            frameborder=\"0\"\n",
              "            allowfullscreen\n",
              "        ></iframe>\n",
              "        "
            ],
            "image/jpeg": "[encoded data removed]"
          },
          "metadata": {},
          "execution_count": 2
        }
      ]
    },
    {
      "cell_type": "markdown",
      "metadata": {
        "id": "c0713be6"
      },
      "source": [
        "## Anaconda"
      ],
      "id": "c0713be6"
    },
    {
      "cell_type": "markdown",
      "metadata": {
        "id": "b56131a4"
      },
      "source": [
        "En esta ocasión trabajaremos con la interfaz de **Jupyter Notebook** que podrá encontrar en el programa de **Anaconda**\n",
        "\n",
        "![](images/Jupyter.gif)"
      ],
      "id": "b56131a4"
    },
    {
      "cell_type": "markdown",
      "metadata": {
        "id": "1593a50d"
      },
      "source": [
        "Dentro de los cuales en esta parte si usted no es **programador(a)** surge entonces especializarse en un par de `paquetes` o `libraries` que son para el uso precindible de los economistas en el mundo de **Python** y del **Análisis de Datos**, estos son:\n",
        "\n",
        "\n",
        "<img src='https://drive.google.com/uc?export=view&id=1SU_J6lr7X30pnmbk5nQmF18i9SRpzVww'>\n",
        "\n",
        "\n",
        "\n",
        "\n",
        "\n"
      ],
      "id": "1593a50d"
    },
    {
      "cell_type": "markdown",
      "metadata": {
        "id": "bbfb0024"
      },
      "source": [
        "El IDE **Jupyter** se abrirá en el explorador de internet que usted tenga por default en su PC llamese _Chrome, Edge, Opera, Mozilla_. Lo bueno de **Jupyter** es que automaticamente produce documentos *Markdown* y la interfaz con los `chunks` se vuelve mucho mejor. Empecemos entonces a mirar lo consecuente a análisis de datos y la implementacion en este IDE. "
      ],
      "id": "bbfb0024"
    },
    {
      "cell_type": "markdown",
      "metadata": {
        "id": "046e2d93"
      },
      "source": [
        "## Ciencia de datos"
      ],
      "id": "046e2d93"
    },
    {
      "cell_type": "markdown",
      "metadata": {
        "id": "1a2d3c9b"
      },
      "source": [
        "La ciencia de datos involucra tres areas considerables que son:\n",
        "    \n",
        "<img src='https://drive.google.com/uc?export=view&id=1ag46maxxp7rDOuTW-oU9HQd16rd485os'>\n"
      ],
      "id": "1a2d3c9b"
    },
    {
      "cell_type": "markdown",
      "metadata": {
        "id": "db5f5aef"
      },
      "source": [
        "Paquetes como **pandas** pueden encontrar su documentación en el siguiente [enlace](https://pandas.pydata.org), donde tendrá ejemplos y una forma de _manual_ para entender mejor como funciona. Adicionalmente esta [Numpy](https://numpy.org) que tambien tiene una ligera similitud con **Pandas** para trabajar los datos y aplicar o hacer operaciones. Para la parte gráfica se encuentran los `paquetes` de [Seaborn](https://seaborn.pydata.org) y [Matplotlib](https://matplotlib.org) respectivamente. Su uso, dependerá de lo que requiere el cientifico y/o el cliente. \n",
        "\n"
      ],
      "id": "db5f5aef"
    },
    {
      "cell_type": "markdown",
      "metadata": {
        "id": "79d12c0f"
      },
      "source": [
        "## Python como calculadora"
      ],
      "id": "79d12c0f"
    },
    {
      "cell_type": "markdown",
      "metadata": {
        "id": "ec21230a"
      },
      "source": [
        "En un principio, sin importar `paquetes` el lenguaje de _programación_ de **Python** funciona de manera similar si tuviera una calculadora a la mano.\n",
        "\n",
        "~~~python\n",
        "# Aritmética\n",
        "250000+ 512000\n",
        "# Multiplicación\n",
        "330*52\n",
        "# División \n",
        "450/30\n",
        "# Potencia\n",
        "2**3\n",
        "~~~\n",
        "\n",
        "Los resultados se les mostrará en la linea siguiende precedidos de un `Out [ ]` y un número. Es la forma en como el _programa_ organiza las salidas o hace seguimiento de lo que usted estima o hace."
      ],
      "id": "ec21230a"
    },
    {
      "cell_type": "markdown",
      "metadata": {
        "id": "4ee2ee40"
      },
      "source": [
        "#### Ejecución de lo anterior"
      ],
      "id": "4ee2ee40"
    },
    {
      "cell_type": "code",
      "metadata": {
        "id": "c7802154",
        "outputId": "ee99f245-2b82-43d6-e20e-9ada261fcc9e",
        "colab": {
          "base_uri": "https://localhost:8080/"
        }
      },
      "source": [
        "# Aritmética y otros ejercicios  \n",
        "250000+ 512000"
      ],
      "id": "c7802154",
      "execution_count": 3,
      "outputs": [
        {
          "output_type": "execute_result",
          "data": {
            "text/plain": [
              "762000"
            ]
          },
          "metadata": {},
          "execution_count": 3
        }
      ]
    },
    {
      "cell_type": "code",
      "metadata": {
        "id": "89b845d6",
        "outputId": "70cd992f-f256-4dff-c24a-1a965409c993",
        "colab": {
          "base_uri": "https://localhost:8080/"
        }
      },
      "source": [
        "# Multiplicación\n",
        "330*52"
      ],
      "id": "89b845d6",
      "execution_count": 4,
      "outputs": [
        {
          "output_type": "execute_result",
          "data": {
            "text/plain": [
              "17160"
            ]
          },
          "metadata": {},
          "execution_count": 4
        }
      ]
    },
    {
      "cell_type": "code",
      "metadata": {
        "scrolled": true,
        "id": "d9ba8358",
        "outputId": "7e42ee81-ef4d-4c15-fc14-667ec1d9b8ee",
        "colab": {
          "base_uri": "https://localhost:8080/"
        }
      },
      "source": [
        "# División \n",
        "450/30"
      ],
      "id": "d9ba8358",
      "execution_count": 5,
      "outputs": [
        {
          "output_type": "execute_result",
          "data": {
            "text/plain": [
              "15.0"
            ]
          },
          "metadata": {},
          "execution_count": 5
        }
      ]
    },
    {
      "cell_type": "code",
      "metadata": {
        "id": "df9b2274",
        "outputId": "8d6c70df-1877-45d2-d233-67f81ee9a838",
        "colab": {
          "base_uri": "https://localhost:8080/"
        }
      },
      "source": [
        "# Potencia\n",
        "2**3"
      ],
      "id": "df9b2274",
      "execution_count": 6,
      "outputs": [
        {
          "output_type": "execute_result",
          "data": {
            "text/plain": [
              "8"
            ]
          },
          "metadata": {},
          "execution_count": 6
        }
      ]
    },
    {
      "cell_type": "markdown",
      "metadata": {
        "id": "1a62f341"
      },
      "source": [
        "#### Nota 1\n",
        "**Python** Puede correr lo anterior en una sola celda, solo que solo le mostrará el último resultado. _P.e_:"
      ],
      "id": "1a62f341"
    },
    {
      "cell_type": "code",
      "metadata": {
        "scrolled": true,
        "id": "56e409ac",
        "outputId": "15d08ae8-2933-4bd5-95c7-3f4704e3c127",
        "colab": {
          "base_uri": "https://localhost:8080/"
        }
      },
      "source": [
        "# Aritmética\n",
        "250000+ 512000\n",
        "# Multiplicación\n",
        "330*52\n",
        "# División \n",
        "450/30"
      ],
      "id": "56e409ac",
      "execution_count": 7,
      "outputs": [
        {
          "output_type": "execute_result",
          "data": {
            "text/plain": [
              "15.0"
            ]
          },
          "metadata": {},
          "execution_count": 7
        }
      ]
    },
    {
      "cell_type": "markdown",
      "metadata": {
        "id": "e48c80c3"
      },
      "source": [
        "_Para tener los distintos resultados de cada una de las operaciones se recomienda la opción de_ `print` y haber asignado a una letra (cualquiera) el resultado de operación"
      ],
      "id": "e48c80c3"
    },
    {
      "cell_type": "code",
      "metadata": {
        "scrolled": true,
        "id": "5e771b06",
        "outputId": "ef9e09c7-292e-41e6-b24d-93f830711915",
        "colab": {
          "base_uri": "https://localhost:8080/"
        }
      },
      "source": [
        "# Aritmética\n",
        "a=250000+ 512000\n",
        "print(a)\n",
        "# Multiplicación\n",
        "b=330*52\n",
        "print(b)\n",
        "# División \n",
        "c= 450/30\n",
        "print(c)"
      ],
      "id": "5e771b06",
      "execution_count": 8,
      "outputs": [
        {
          "output_type": "stream",
          "name": "stdout",
          "text": [
            "762000\n",
            "17160\n",
            "15.0\n"
          ]
        }
      ]
    },
    {
      "cell_type": "markdown",
      "metadata": {
        "id": "0eb69613"
      },
      "source": [
        "El comando `print` es bastante conocido en estos ambitos, tiene distintos usos, a continuación un par de ejemplos de el:"
      ],
      "id": "0eb69613"
    },
    {
      "cell_type": "markdown",
      "metadata": {
        "id": "662b6f18"
      },
      "source": [
        "##### Ejemplo 1"
      ],
      "id": "662b6f18"
    },
    {
      "cell_type": "code",
      "metadata": {
        "id": "d5b00290",
        "outputId": "0dffb791-66d7-4f85-b214-5bc1d647a8e6",
        "colab": {
          "base_uri": "https://localhost:8080/"
        }
      },
      "source": [
        "print('Living la vida loca')"
      ],
      "id": "d5b00290",
      "execution_count": 9,
      "outputs": [
        {
          "output_type": "stream",
          "name": "stdout",
          "text": [
            "Living la vida loca\n"
          ]
        }
      ]
    },
    {
      "cell_type": "markdown",
      "metadata": {
        "id": "029de550"
      },
      "source": [
        "##### Ejemplo 2"
      ],
      "id": "029de550"
    },
    {
      "cell_type": "markdown",
      "metadata": {
        "id": "6460bc89"
      },
      "source": [
        "sea $x_i \\; donde\\; i \\in{1,2,3,\\dots,n}$"
      ],
      "id": "6460bc89"
    },
    {
      "cell_type": "code",
      "metadata": {
        "scrolled": true,
        "id": "07e40c69",
        "outputId": "e7a77a25-f9c1-4696-ae1c-42a1250b95a2",
        "colab": {
          "base_uri": "https://localhost:8080/"
        }
      },
      "source": [
        "for i in range(10):\n",
        "    print('Se acaba el semestre')"
      ],
      "id": "07e40c69",
      "execution_count": 10,
      "outputs": [
        {
          "output_type": "stream",
          "name": "stdout",
          "text": [
            "Se acaba el semestre\n",
            "Se acaba el semestre\n",
            "Se acaba el semestre\n",
            "Se acaba el semestre\n",
            "Se acaba el semestre\n",
            "Se acaba el semestre\n",
            "Se acaba el semestre\n",
            "Se acaba el semestre\n",
            "Se acaba el semestre\n",
            "Se acaba el semestre\n"
          ]
        }
      ]
    },
    {
      "cell_type": "markdown",
      "metadata": {
        "id": "db65e867"
      },
      "source": [
        "Si observa lo anterior, el programa ejecuto una especie de \"plana\" **automaticamente**, eso fue posible por los elementos que hacen parte de un _loop_ (secuencia de repetición en programación). Este tipo de elementos permiten simplificar ampliamente las opciones del codigo en linea. La opción de `for` le esta diciendo que para un grupo de elementos compuestos y que van de $i={1,2,3,\\dots,n}$, en este caso vamos a establecer a $n$ como $10$ (tamaño de nuestra muestra u observaciones) haga lo mismo las veces que se les indica. La opción de `range` es el límite final de $i$."
      ],
      "id": "db65e867"
    },
    {
      "cell_type": "markdown",
      "metadata": {
        "id": "0074eada"
      },
      "source": [
        "Hay utilidades en **Python** que van en la construcción de solicitudes de autorellenado, _p.e_: haremos uso de `input` y del programa _datetime_ que le permitirá ver el día en el que nació de acuerdo a una información que recibe el algoritmo"
      ],
      "id": "0074eada"
    },
    {
      "cell_type": "code",
      "metadata": {
        "id": "389ac514",
        "outputId": "843e102e-d40f-45bd-9dab-c711d22b020f",
        "colab": {
          "base_uri": "https://localhost:8080/"
        }
      },
      "source": [
        "# Datetime\n",
        "from datetime import datetime\n",
        "respuesta = input(\"Tu fecha de cumpleaños (DD-MM-YYYY): \")\n",
        "birthday = datetime.strptime(respuesta, \"%d-%m-%Y\")\n",
        "print(\"Tu nacimiento fue un \" + birthday.strftime(\"%A\") + \"!\")"
      ],
      "id": "389ac514",
      "execution_count": 11,
      "outputs": [
        {
          "output_type": "stream",
          "name": "stdout",
          "text": [
            "Tu fecha de cumpleaños (DD-MM-YYYY): 17-09-1987\n",
            "Tu nacimiento fue un Thursday!\n"
          ]
        }
      ]
    },
    {
      "cell_type": "markdown",
      "metadata": {
        "id": "b08a5e0f"
      },
      "source": [
        "#### Texto y vectores"
      ],
      "id": "b08a5e0f"
    },
    {
      "cell_type": "markdown",
      "metadata": {
        "id": "1247286a"
      },
      "source": [
        "Al igual que muchos programas, **Python** hace uso de vectores y/o matrices, en esta parte haremos un pequeño con un vector _númerico_ y uno de _texto_ "
      ],
      "id": "1247286a"
    },
    {
      "cell_type": "markdown",
      "metadata": {
        "id": "d1d6e019"
      },
      "source": [
        "##### Ejemplo 3 (númerico)"
      ],
      "id": "d1d6e019"
    },
    {
      "cell_type": "code",
      "metadata": {
        "id": "b3428cc8"
      },
      "source": [
        "# Definimos un vector x\n",
        "x=[1,2,3,4,5,6,7]"
      ],
      "id": "b3428cc8",
      "execution_count": 12,
      "outputs": []
    },
    {
      "cell_type": "markdown",
      "metadata": {
        "id": "5a37da52"
      },
      "source": [
        "Podemos entonces utilizar algunas opciones de **python** como `type, len, append, extend` entre otros."
      ],
      "id": "5a37da52"
    },
    {
      "cell_type": "code",
      "metadata": {
        "id": "3d09bdc8",
        "outputId": "73ce94e1-7ecc-491f-a06d-99475c2d86d0",
        "colab": {
          "base_uri": "https://localhost:8080/"
        }
      },
      "source": [
        "type(x)"
      ],
      "id": "3d09bdc8",
      "execution_count": 13,
      "outputs": [
        {
          "output_type": "execute_result",
          "data": {
            "text/plain": [
              "list"
            ]
          },
          "metadata": {},
          "execution_count": 13
        }
      ]
    },
    {
      "cell_type": "code",
      "metadata": {
        "id": "092fa726",
        "outputId": "6d8bd043-8fbc-41a6-d726-2b065a063b31",
        "colab": {
          "base_uri": "https://localhost:8080/"
        }
      },
      "source": [
        "len(x)"
      ],
      "id": "092fa726",
      "execution_count": 14,
      "outputs": [
        {
          "output_type": "execute_result",
          "data": {
            "text/plain": [
              "7"
            ]
          },
          "metadata": {},
          "execution_count": 14
        }
      ]
    },
    {
      "cell_type": "code",
      "metadata": {
        "id": "93868f25",
        "outputId": "72fd73a0-7833-4eb0-dbdb-8a97c6d6953a",
        "colab": {
          "base_uri": "https://localhost:8080/"
        }
      },
      "source": [
        "x.append(8)\n",
        "x"
      ],
      "id": "93868f25",
      "execution_count": 15,
      "outputs": [
        {
          "output_type": "execute_result",
          "data": {
            "text/plain": [
              "[1, 2, 3, 4, 5, 6, 7, 8]"
            ]
          },
          "metadata": {},
          "execution_count": 15
        }
      ]
    },
    {
      "cell_type": "code",
      "metadata": {
        "scrolled": true,
        "id": "8c89696e",
        "outputId": "c65343c2-b268-476e-f621-c77f64ddd654",
        "colab": {
          "base_uri": "https://localhost:8080/"
        }
      },
      "source": [
        "x.extend([9,10,11,12,13])\n",
        "x"
      ],
      "id": "8c89696e",
      "execution_count": 16,
      "outputs": [
        {
          "output_type": "execute_result",
          "data": {
            "text/plain": [
              "[1, 2, 3, 4, 5, 6, 7, 8, 9, 10, 11, 12, 13]"
            ]
          },
          "metadata": {},
          "execution_count": 16
        }
      ]
    },
    {
      "cell_type": "markdown",
      "metadata": {
        "id": "7607f383"
      },
      "source": [
        "#### Nota 2\n",
        "**Python** algunas opciones y comandos funcionan con `( )` otras con `.` y cuando se trata de varios elementos corresponde usar `([])`. _Es cuestión de costumbre para eso_"
      ],
      "id": "7607f383"
    },
    {
      "cell_type": "markdown",
      "metadata": {
        "id": "d24526c9"
      },
      "source": [
        "Podemos calcular la raíz cuadrada de cada elemento de la siguiente forma:"
      ],
      "id": "d24526c9"
    },
    {
      "cell_type": "code",
      "metadata": {
        "scrolled": true,
        "id": "60323607",
        "outputId": "3a8673fa-5f5b-46eb-8ed5-8a35e02bde8d",
        "colab": {
          "base_uri": "https://localhost:8080/"
        }
      },
      "source": [
        "# Raíz cudrada en un vector\n",
        "import math\n",
        "x_raiz = []\n",
        "for i in x:\n",
        "    x_raiz.append(math.sqrt(i))\n",
        "print(x_raiz)"
      ],
      "id": "60323607",
      "execution_count": 17,
      "outputs": [
        {
          "output_type": "stream",
          "name": "stdout",
          "text": [
            "[1.0, 1.4142135623730951, 1.7320508075688772, 2.0, 2.23606797749979, 2.449489742783178, 2.6457513110645907, 2.8284271247461903, 3.0, 3.1622776601683795, 3.3166247903554, 3.4641016151377544, 3.605551275463989]\n"
          ]
        }
      ]
    },
    {
      "cell_type": "markdown",
      "metadata": {
        "id": "c41aacaa"
      },
      "source": [
        "##### Ejemplo 4 (Texto)"
      ],
      "id": "c41aacaa"
    },
    {
      "cell_type": "markdown",
      "metadata": {
        "id": "d256939c"
      },
      "source": [
        "En esta parte usaremos texto en **Python**. El programa podrá detectar siempre y cuando lo marque entre comillas `(\" \")`, miremos a continuación: "
      ],
      "id": "d256939c"
    },
    {
      "cell_type": "code",
      "metadata": {
        "id": "dd918ed5"
      },
      "source": [
        "texto='la vida es mas que todo esto'"
      ],
      "id": "dd918ed5",
      "execution_count": 18,
      "outputs": []
    },
    {
      "cell_type": "code",
      "metadata": {
        "scrolled": true,
        "id": "08f2c8a3",
        "outputId": "f74aa6d8-fee1-4276-b128-f92c4a0a4777",
        "colab": {
          "base_uri": "https://localhost:8080/",
          "height": 35
        }
      },
      "source": [
        "texto[10]"
      ],
      "id": "08f2c8a3",
      "execution_count": 19,
      "outputs": [
        {
          "output_type": "execute_result",
          "data": {
            "text/plain": [
              "' '"
            ],
            "application/vnd.google.colaboratory.intrinsic+json": {
              "type": "string"
            }
          },
          "metadata": {},
          "execution_count": 19
        }
      ]
    },
    {
      "cell_type": "markdown",
      "metadata": {
        "id": "98dd9822"
      },
      "source": [
        "_Observe que no tiene en cuenta los espacios, para el programa `[4]` es el valor de \"i\"._"
      ],
      "id": "98dd9822"
    },
    {
      "cell_type": "code",
      "metadata": {
        "id": "b7f05cc5",
        "outputId": "9213513e-4638-40fd-e441-0348e6cb3730",
        "colab": {
          "base_uri": "https://localhost:8080/"
        }
      },
      "source": [
        "animales =['Perro', 'Gato', 'Pajaro']\n",
        "plural= [animal + 's' for animal in animales]\n",
        "plural"
      ],
      "id": "b7f05cc5",
      "execution_count": 20,
      "outputs": [
        {
          "output_type": "execute_result",
          "data": {
            "text/plain": [
              "['Perros', 'Gatos', 'Pajaros']"
            ]
          },
          "metadata": {},
          "execution_count": 20
        }
      ]
    },
    {
      "cell_type": "code",
      "metadata": {
        "id": "cb63e883",
        "outputId": "fc78cf34-82ad-4166-99c2-467a4de97cba",
        "colab": {
          "base_uri": "https://localhost:8080/"
        }
      },
      "source": [
        "n=10\n",
        "print(\"El numero de años que llevo en la U repitiendo micro es\",n)"
      ],
      "id": "cb63e883",
      "execution_count": 21,
      "outputs": [
        {
          "output_type": "stream",
          "name": "stdout",
          "text": [
            "El numero de años que llevo en la U repitiendo micro es 10\n"
          ]
        }
      ]
    },
    {
      "cell_type": "markdown",
      "metadata": {
        "id": "162408e7"
      },
      "source": [
        "### Ecuaciones y algebra"
      ],
      "id": "162408e7"
    },
    {
      "cell_type": "markdown",
      "metadata": {
        "id": "3b100629"
      },
      "source": [
        "El programa **Python** tambien permite hacer despejes o hallar valores de incognitas que tengamos, para eso lo bueno es importar el paquete de `Symbol`."
      ],
      "id": "3b100629"
    },
    {
      "cell_type": "markdown",
      "metadata": {
        "id": "d56052d4"
      },
      "source": [
        "Recuerda que muchas veces en matemáticas le solicitaban calcular: $(x+y)^2$"
      ],
      "id": "d56052d4"
    },
    {
      "cell_type": "code",
      "metadata": {
        "scrolled": true,
        "id": "c702eae7",
        "outputId": "a6001f15-7fb7-4875-c878-10e194aed2ce",
        "colab": {
          "base_uri": "https://localhost:8080/",
          "height": 39
        }
      },
      "source": [
        "from sympy import Symbol\n",
        "x,y= Symbol('x'), Symbol('y')\n",
        "expression=(x-y)**2\n",
        "expression.expand()"
      ],
      "id": "c702eae7",
      "execution_count": 22,
      "outputs": [
        {
          "output_type": "execute_result",
          "data": {
            "text/plain": [
              "x**2 - 2*x*y + y**2"
            ],
            "text/latex": "$\\displaystyle x^{2} - 2 x y + y^{2}$"
          },
          "metadata": {},
          "execution_count": 22
        }
      ]
    },
    {
      "cell_type": "markdown",
      "metadata": {
        "id": "3a6b2488"
      },
      "source": [
        "En cuestión de despeje debe usar `solve`, suponga como en Microeconomía le piden que halle el **precio de equilibrio** de una función de demanda y oferta que son las siguientes:\n",
        "$$Q_d=30-2p \\quad Q_s=20+p$$"
      ],
      "id": "3a6b2488"
    },
    {
      "cell_type": "code",
      "metadata": {
        "scrolled": false,
        "id": "cfbfb247",
        "outputId": "8af21fa2-b169-465e-cd37-5b86b429b6e9",
        "colab": {
          "base_uri": "https://localhost:8080/"
        }
      },
      "source": [
        "from sympy import solve\n",
        "p=Symbol('p')\n",
        "precio=solve(30-2*p-20-p)\n",
        "print(\"El precio de equilibrio de este mercado es\", precio)"
      ],
      "id": "cfbfb247",
      "execution_count": 23,
      "outputs": [
        {
          "output_type": "stream",
          "name": "stdout",
          "text": [
            "El precio de equilibrio de este mercado es [10/3]\n"
          ]
        }
      ]
    },
    {
      "cell_type": "code",
      "metadata": {
        "id": "0be3dddd",
        "outputId": "29deddfc-4be3-431d-f536-e630e803f18e",
        "colab": {
          "base_uri": "https://localhost:8080/"
        }
      },
      "source": [
        "10/3"
      ],
      "id": "0be3dddd",
      "execution_count": 24,
      "outputs": [
        {
          "output_type": "execute_result",
          "data": {
            "text/plain": [
              "3.3333333333333335"
            ]
          },
          "metadata": {},
          "execution_count": 24
        }
      ]
    },
    {
      "cell_type": "markdown",
      "metadata": {
        "id": "740e861a"
      },
      "source": [
        "Recuerda tambien que alguna vez le insistieron demasiado en la formula:\n",
        "$$\\frac{-b \\pm \\sqrt{b^2+4(a)(c)}}{2a}$$\n",
        "Pues acá lo puede hacer, si le pidieran $5x^2+7x+2$"
      ],
      "id": "740e861a"
    },
    {
      "cell_type": "code",
      "metadata": {
        "id": "1d4ac409",
        "outputId": "3bf98aea-9383-471a-c1e1-e720dba6b8c9",
        "colab": {
          "base_uri": "https://localhost:8080/"
        }
      },
      "source": [
        "solve(5*x**2+7*x+2)"
      ],
      "id": "1d4ac409",
      "execution_count": 25,
      "outputs": [
        {
          "output_type": "execute_result",
          "data": {
            "text/plain": [
              "[-1, -2/5]"
            ]
          },
          "metadata": {},
          "execution_count": 25
        }
      ]
    },
    {
      "cell_type": "markdown",
      "metadata": {
        "id": "3993d604"
      },
      "source": [
        "### Practica 1 (El profesor podrá solicitar que lo muestre en pantalla)\n",
        "\n",
        "En un _notebook nuevo_ responda lo siguiente:\n",
        "\n",
        "1. Resuelva los siguientes cálculos \n",
        "    a). $2145 + 4250 + 6215$\n",
        "    b). $43^{11}$\n",
        "    c). $456/15$\n",
        "2. En una celda única genere los datos con la versión `print`\n",
        "3. Genere un `loop` de `print` con un texto cualquira cuando $n=15$\n",
        "4. Construya un vector con los elementos de 10 al 35, _puede hacerlo de forma manual o usar la opción_ `list(range(inicio, fin))`\n",
        "5. Calcule la raíz cuadrada en un vector nuevo del anterior vector."
      ],
      "id": "3993d604"
    },
    {
      "cell_type": "code",
      "metadata": {
        "scrolled": true,
        "id": "b5065c4d",
        "outputId": "2f649f0d-4a03-457e-d64b-4e5b5cad1cf0",
        "colab": {
          "base_uri": "https://localhost:8080/"
        }
      },
      "source": [
        "vivian=list(range(10,35))\n",
        "vivian"
      ],
      "id": "b5065c4d",
      "execution_count": 26,
      "outputs": [
        {
          "output_type": "execute_result",
          "data": {
            "text/plain": [
              "[10,\n",
              " 11,\n",
              " 12,\n",
              " 13,\n",
              " 14,\n",
              " 15,\n",
              " 16,\n",
              " 17,\n",
              " 18,\n",
              " 19,\n",
              " 20,\n",
              " 21,\n",
              " 22,\n",
              " 23,\n",
              " 24,\n",
              " 25,\n",
              " 26,\n",
              " 27,\n",
              " 28,\n",
              " 29,\n",
              " 30,\n",
              " 31,\n",
              " 32,\n",
              " 33,\n",
              " 34]"
            ]
          },
          "metadata": {},
          "execution_count": 26
        }
      ]
    },
    {
      "cell_type": "code",
      "metadata": {
        "id": "1a044f96",
        "outputId": "7be38490-fc6a-4206-9bfa-2f948625deda",
        "colab": {
          "base_uri": "https://localhost:8080/"
        }
      },
      "source": [
        "import math\n",
        "x_vivian = []\n",
        "for i in vivian:\n",
        "    x_vivian.append(math.sqrt(i))\n",
        "print(x_vivian)"
      ],
      "id": "1a044f96",
      "execution_count": 27,
      "outputs": [
        {
          "output_type": "stream",
          "name": "stdout",
          "text": [
            "[3.1622776601683795, 3.3166247903554, 3.4641016151377544, 3.605551275463989, 3.7416573867739413, 3.872983346207417, 4.0, 4.123105625617661, 4.242640687119285, 4.358898943540674, 4.47213595499958, 4.58257569495584, 4.69041575982343, 4.795831523312719, 4.898979485566356, 5.0, 5.0990195135927845, 5.196152422706632, 5.291502622129181, 5.385164807134504, 5.477225575051661, 5.5677643628300215, 5.656854249492381, 5.744562646538029, 5.830951894845301]\n"
          ]
        }
      ]
    },
    {
      "cell_type": "markdown",
      "metadata": {
        "id": "70ac82a4"
      },
      "source": [
        "\n",
        "\n",
        "\n",
        "## Mi primer código en Python"
      ],
      "id": "70ac82a4"
    },
    {
      "cell_type": "markdown",
      "metadata": {
        "id": "f2d48997"
      },
      "source": [
        "Como ocurrió en el último ejemplo, **Python** operacionaliza a partir de códigos u ordenes  "
      ],
      "id": "f2d48997"
    },
    {
      "cell_type": "markdown",
      "metadata": {
        "id": "4ba3020b"
      },
      "source": [
        "<img src='https://drive.google.com/uc?export=view&id=14NlWcMC7uefXnbpfVTO9HJpu2s3s97nO'>"
      ],
      "id": "4ba3020b"
    },
    {
      "cell_type": "markdown",
      "metadata": {
        "id": "4ee3d94f"
      },
      "source": [
        "Aplicaremos nuestra primera función a la suma de dos valores cualquiera dentro de una expresión"
      ],
      "id": "4ee3d94f"
    },
    {
      "cell_type": "code",
      "metadata": {
        "id": "aec57a29"
      },
      "source": [
        "def sumita(x,y):\n",
        "    \"Va la suma\"\n",
        "    resultado=x+y\n",
        "    return resultado"
      ],
      "id": "aec57a29",
      "execution_count": 28,
      "outputs": []
    },
    {
      "cell_type": "code",
      "metadata": {
        "id": "e1aa18f8"
      },
      "source": [
        "def multiplicacion_de_valores(x,y,r):\n",
        "    \"Algo que me acabo de inventar\"\n",
        "    resultado= x*y*r\n",
        "    return resultado"
      ],
      "id": "e1aa18f8",
      "execution_count": 29,
      "outputs": []
    },
    {
      "cell_type": "code",
      "metadata": {
        "scrolled": true,
        "id": "31e38a0c",
        "outputId": "8fbe45a6-36c7-4315-942d-775546b51d4b",
        "colab": {
          "base_uri": "https://localhost:8080/"
        }
      },
      "source": [
        "multiplicacion_de_valores(2,7,3)"
      ],
      "id": "31e38a0c",
      "execution_count": 30,
      "outputs": [
        {
          "output_type": "execute_result",
          "data": {
            "text/plain": [
              "42"
            ]
          },
          "metadata": {},
          "execution_count": 30
        }
      ]
    },
    {
      "cell_type": "markdown",
      "metadata": {
        "id": "15704ca7"
      },
      "source": [
        "Recuerda que en matemáticas _Financieras_ le piden a uno siempre calcular tasas de interés capitalizables a cierto periodo de tiempo. En esta parte miraremos pasar una tasa de interés nominal anual a una efectiva anual.\n",
        "\n",
        "La formula es **Tasa Efectiva**= $(1+\\frac{T.P}{periodo})^{periodo} - 1$"
      ],
      "id": "15704ca7"
    },
    {
      "cell_type": "code",
      "metadata": {
        "id": "40c51956"
      },
      "source": [
        "def tasa_efectiva(te,periodo):\n",
        "    resultado=(1+te/periodo)**periodo -1\n",
        "    return resultado"
      ],
      "id": "40c51956",
      "execution_count": 31,
      "outputs": []
    },
    {
      "cell_type": "code",
      "metadata": {
        "id": "bd49d491",
        "outputId": "4ea69e97-7d6d-4421-a7b4-e302b031b47a",
        "colab": {
          "base_uri": "https://localhost:8080/"
        }
      },
      "source": [
        "tasa_efectiva(0.22,12)"
      ],
      "id": "bd49d491",
      "execution_count": 32,
      "outputs": [
        {
          "output_type": "execute_result",
          "data": {
            "text/plain": [
              "0.24359657794448242"
            ]
          },
          "metadata": {},
          "execution_count": 32
        }
      ]
    },
    {
      "cell_type": "markdown",
      "metadata": {
        "id": "435fe784"
      },
      "source": [
        "De igual forma puede implementar formulas sencillas sin usar el mecanismo de funciones. Mire bien la parte para el calculo del **retorno** de una acción:\n",
        "$$\n",
        "Returno = \\frac{Cierre_t}{Cierre_{t-1}} - 1\n",
        "$$"
      ],
      "id": "435fe784"
    },
    {
      "cell_type": "code",
      "metadata": {
        "id": "16781012",
        "outputId": "c06ead31-5ff6-45e3-c328-8f21fdfbc018",
        "colab": {
          "base_uri": "https://localhost:8080/"
        }
      },
      "source": [
        "cierre_2_noviembre = 66.750\n",
        "cierre_3_noviembre = 61.968\n",
        "returno_3_noviembre = (cierre_3_noviembre / cierre_2_noviembre) - 1\n",
        "print(returno_3_noviembre)"
      ],
      "id": "16781012",
      "execution_count": 33,
      "outputs": [
        {
          "output_type": "stream",
          "name": "stdout",
          "text": [
            "-0.07164044943820225\n"
          ]
        }
      ]
    },
    {
      "cell_type": "markdown",
      "metadata": {
        "id": "7f82c028"
      },
      "source": [
        "## Problemas y cosas que uno puede resolver en python"
      ],
      "id": "7f82c028"
    },
    {
      "cell_type": "markdown",
      "metadata": {
        "id": "6f7954f4"
      },
      "source": [
        "El programa **Python** esta ideado para intentar resolver problemas comunes de medición, clasificación y un universo de muchas posibilidades."
      ],
      "id": "6f7954f4"
    },
    {
      "cell_type": "markdown",
      "metadata": {
        "id": "a157d157"
      },
      "source": [
        "#### Problema de clasificación\n",
        "\n",
        "Asuma que tiene información calorica de tal manera que:\n",
        "\n",
        "| Categoría | Etiqueta        | Criterios                                       |\n",
        "|----------\t|---------------  |----------------------------------------------\t|\n",
        "| Calorías \t| Sin calorías \t  | menos de 5 calorías por porción             \t|\n",
        "| Calorías \t| Baja calorias   | menos de 40 calorías por porción             \t|\n",
        "| Grasa     | Sin grasas      | Menos de 0.5 gramos de grasa total por porción \t|\n",
        "| Grasa     | Baja grasas     | 3 gramos or menos de grasa total por porción    |\n",
        "| Azucar    | Libre de azucar | Menos de 0.5 gramos de azucar por porción     \t|\n",
        "\n",
        "Fuente: [American Diabetes Association](https://www.diabetes.org/healthy-living/recipes-nutrition/reading-food-labels) y el [Institute of Medicine](https://www.ncbi.nlm.nih.gov/books/NBK209851/)."
      ],
      "id": "a157d157"
    },
    {
      "cell_type": "markdown",
      "metadata": {
        "id": "a5eb9ae1"
      },
      "source": [
        "### Adición de etiquetas\n",
        "\n",
        "Digamos que que queremos hacer un pequeño programa que clasifique etiquetas segun información de algun producto, alimento y/o bien.\n",
        "\n",
        "Usemos información real del [US Department of Agriculture](https://fdc.nal.usda.gov/fdc-app.html#/food-details/362759/nutrients)) sobre nutrientes:\n",
        "\n",
        "~~~python\n",
        "banano = {\n",
        "    \"porcion\":28, # En gramos\n",
        "    \"calorias\":94.1, # En kilocalorias\n",
        "    \"grasa\":300, # En miligramos\n",
        "    \"sodio\":1.96, # En miligramos\n",
        "    \"azucar\":16, # En gramos\n",
        "    \"fibra\":0.504 # En gramos\n",
        "}\n",
        "~~~\n",
        "\n",
        "_La forma escrita anterior es un diccionario estipulado por python, usa `{ }` y `\" \"` de la manera de indicar que tiene_."
      ],
      "id": "a5eb9ae1"
    },
    {
      "cell_type": "code",
      "metadata": {
        "id": "7e24c44c",
        "outputId": "547ce62e-3af8-48da-e7a4-c9295ae28642",
        "colab": {
          "base_uri": "https://localhost:8080/"
        }
      },
      "source": [
        "banano = {\n",
        "    \"porcion\":28, # En gramos\n",
        "    \"calorias\":94.1, # En kilocalorias\n",
        "    \"grasa\":300, # En miligramos\n",
        "    \"sodio\":1.96, # En miligramos\n",
        "    \"azucar\":16, # En gramos\n",
        "    \"fibra\":0.504 # En gramos\n",
        "}\n",
        "if banano[\"calorias\"] < 5:\n",
        "    etiqueta_caloria = \"Libre de Calorías\"\n",
        "elif banano[\"calorias\"] < 40:\n",
        "    etiqueta_caloria = \"Bajo en Calorías\"\n",
        "else:\n",
        "    etiqueta_caloria = None\n",
        "\n",
        "print(\"Este producto es: \", etiqueta_caloria)"
      ],
      "id": "7e24c44c",
      "execution_count": 34,
      "outputs": [
        {
          "output_type": "stream",
          "name": "stdout",
          "text": [
            "Este producto es:  None\n"
          ]
        }
      ]
    },
    {
      "cell_type": "markdown",
      "metadata": {
        "id": "8dee98cf"
      },
      "source": [
        "### Práctica\n",
        "Intente hacer lo mismo usted pero con este producto (debe construir un diccionario):\n",
        "\n",
        "_Una porción de tomate tiene 125 gramos, 22.5 Calorias, grasa 250 miligramos, sodio 6.25 miligramos, azúcar 3.29 y fibra 1.5 gramos_"
      ],
      "id": "8dee98cf"
    },
    {
      "cell_type": "code",
      "metadata": {
        "id": "caa8efdf",
        "outputId": "234a642f-0974-4962-87cc-5d691f0b172a",
        "colab": {
          "base_uri": "https://localhost:8080/"
        }
      },
      "source": [
        "tomate = {\n",
        "    \"porcion\":125, # En gramos\n",
        "    \"calorias\":22.5, # En kilocalorias\n",
        "    \"grasa\":250, # En miligramos\n",
        "    \"sodio\":6.25, # En miligramos\n",
        "    \"azucar\":3.29, # En gramos\n",
        "    \"fibra\":1.5 # En gramos\n",
        "}\n",
        "if tomate[\"calorias\"] < 5:\n",
        "    etiqueta_caloria = \"Libre de Calorías\"\n",
        "elif tomate[\"calorias\"] < 40:\n",
        "    etiqueta_caloria = \"Bajo en Calorías\"\n",
        "else:\n",
        "    etiqueta_caloria = None\n",
        "\n",
        "print(\"Este producto es: \", etiqueta_caloria)"
      ],
      "id": "caa8efdf",
      "execution_count": 35,
      "outputs": [
        {
          "output_type": "stream",
          "name": "stdout",
          "text": [
            "Este producto es:  Bajo en Calorías\n"
          ]
        }
      ]
    },
    {
      "cell_type": "markdown",
      "metadata": {
        "id": "bdde853e"
      },
      "source": [
        "Adicionalmente podemos entonces elaborar un pequeño codigo para no repetir y entonces a partir de un diccionarios podamos entonces establecer o tener un resultado."
      ],
      "id": "bdde853e"
    },
    {
      "cell_type": "code",
      "metadata": {
        "id": "39ceb8a2"
      },
      "source": [
        "def asignación_sello_calorias(alimento):\n",
        "    \"\"\"\n",
        "    Se asigna una etiqueta\n",
        "    \n",
        "    Argumentos:\n",
        "    Alimento: un diccionario de python\n",
        "    \n",
        "    Resultados:\n",
        "    Sin resultado alguno númerico. Esta función solo etiqueta \"\"\"\n",
        "    if alimento[\"calorias\"] < 5:\n",
        "        sello_etiqueta = \"Libre de calorías\"\n",
        "    elif alimento[\"calorias\"] < 40:\n",
        "        sello_etiqueta = \"Baja calorías\"\n",
        "    else:\n",
        "        sello_etiqueta = \"Alto en Calorías\"\n",
        "    print(sello_etiqueta)"
      ],
      "id": "39ceb8a2",
      "execution_count": 36,
      "outputs": []
    },
    {
      "cell_type": "code",
      "metadata": {
        "id": "6fa7ccd5"
      },
      "source": [
        "sandia = {\n",
        "    \"porcion\":800, # En gramos\n",
        "    \"calorias\":46.5, # En kilocalorias\n",
        "    \"grasa\":100, # En miligramos\n",
        "    \"sodio\":8.25, # En miligramos\n",
        "    \"azucar\":15.29, # En gramos\n",
        "    \"fibra\":0.7 # En gramos\n",
        "}"
      ],
      "id": "6fa7ccd5",
      "execution_count": 37,
      "outputs": []
    },
    {
      "cell_type": "code",
      "metadata": {
        "scrolled": true,
        "id": "7b546c1c",
        "outputId": "7cda5e06-9b6a-4f04-b45a-08412334e94e",
        "colab": {
          "base_uri": "https://localhost:8080/"
        }
      },
      "source": [
        "asignación_sello_calorias(sandia)"
      ],
      "id": "7b546c1c",
      "execution_count": 38,
      "outputs": [
        {
          "output_type": "stream",
          "name": "stdout",
          "text": [
            "Alto en Calorías\n"
          ]
        }
      ]
    },
    {
      "cell_type": "markdown",
      "metadata": {
        "id": "7fca8d02"
      },
      "source": [
        "#### Otro ejemplo:\n",
        "\n",
        "Asuma que le preguntan lo siguiente ahora:\n",
        "**Pregunta**: Una pelota es lanzada desde una altura de 100 metros y rebota hasta la mitad de su altura original cada vez que golpea el suelo; ¿cuántos metros pasa cuando golpea el suelo por décima vez (10)? ¿Qué altura toma ese décimo rebote?"
      ],
      "id": "7fca8d02"
    },
    {
      "cell_type": "code",
      "metadata": {
        "id": "9cce6fda",
        "outputId": "4cec213e-7f06-412c-f940-0d42e1f18152",
        "colab": {
          "base_uri": "https://localhost:8080/"
        }
      },
      "source": [
        "altura = 100 # va en metros\n",
        "pelota = 1\n",
        "while pelota <= 10:\n",
        "    altura = altura * (1/2)\n",
        "    print(altura, round(altura, 2))\n",
        "    pelota += 1"
      ],
      "id": "9cce6fda",
      "execution_count": 39,
      "outputs": [
        {
          "output_type": "stream",
          "name": "stdout",
          "text": [
            "50.0 50.0\n",
            "25.0 25.0\n",
            "12.5 12.5\n",
            "6.25 6.25\n",
            "3.125 3.12\n",
            "1.5625 1.56\n",
            "0.78125 0.78\n",
            "0.390625 0.39\n",
            "0.1953125 0.2\n",
            "0.09765625 0.1\n"
          ]
        }
      ]
    },
    {
      "cell_type": "markdown",
      "metadata": {
        "id": "e707ea69"
      },
      "source": [
        "## Data frames (bases de datos)"
      ],
      "id": "e707ea69"
    },
    {
      "cell_type": "markdown",
      "metadata": {
        "id": "ead9f7b3"
      },
      "source": [
        "Los datos que uno usa en **Python** pueden ser manejados con los paquetes (librerias) denominadas <span style=\"color:red\">**Numpy**</span> o si no el famoso <span style=\"color:red\">**Pandas**</span>. el primero es para manejo de datos de forma de _matrices_ y el siguiente sirve para importar, combinar, filtrar o concadenar datos y/o la parte de fragmentos de datos. Todos en referencia al **Data Wrangling** pueden encontrar material de apoyo en [Ayuda Numpy](http://datacamp-community-prod.s3.amazonaws.com/ba1fe95a-8b70-4d2f-95b0-bc954e9071b0) y para [Ayuda Pandas](https://pandas.pydata.org/Pandas_Cheat_Sheet.pdf)"
      ],
      "id": "ead9f7b3"
    },
    {
      "cell_type": "code",
      "metadata": {
        "scrolled": true,
        "id": "b95879c6",
        "outputId": "d6a797bd-2e0b-40a7-994e-b99bc880a559",
        "colab": {
          "base_uri": "https://localhost:8080/",
          "height": 49
        }
      },
      "source": [
        "import pandas as pd # es clave\n",
        "\n",
        "# Hay tres ciudades bonitas en la costa caribe: Santa Marta, Barranquilla y Magdalena\n",
        "col=['Santa_Marta','Barranquilla','Cartagena']\n",
        "df = pd.DataFrame(columns=col) # df es dataframe (siempre se usa)\n",
        "df"
      ],
      "id": "b95879c6",
      "execution_count": 40,
      "outputs": [
        {
          "output_type": "execute_result",
          "data": {
            "text/plain": [
              "Empty DataFrame\n",
              "Columns: [Santa_Marta, Barranquilla, Cartagena]\n",
              "Index: []"
            ],
            "text/html": [
              "\n",
              "  <div id=\"df-47cc76be-38e9-477a-8aa9-bae6535d91f5\">\n",
              "    <div class=\"colab-df-container\">\n",
              "      <div>\n",
              "<style scoped>\n",
              "    .dataframe tbody tr th:only-of-type {\n",
              "        vertical-align: middle;\n",
              "    }\n",
              "\n",
              "    .dataframe tbody tr th {\n",
              "        vertical-align: top;\n",
              "    }\n",
              "\n",
              "    .dataframe thead th {\n",
              "        text-align: right;\n",
              "    }\n",
              "</style>\n",
              "<table border=\"1\" class=\"dataframe\">\n",
              "  <thead>\n",
              "    <tr style=\"text-align: right;\">\n",
              "      <th></th>\n",
              "      <th>Santa_Marta</th>\n",
              "      <th>Barranquilla</th>\n",
              "      <th>Cartagena</th>\n",
              "    </tr>\n",
              "  </thead>\n",
              "  <tbody>\n",
              "  </tbody>\n",
              "</table>\n",
              "</div>\n",
              "      <button class=\"colab-df-convert\" onclick=\"convertToInteractive('df-47cc76be-38e9-477a-8aa9-bae6535d91f5')\"\n",
              "              title=\"Convert this dataframe to an interactive table.\"\n",
              "              style=\"display:none;\">\n",
              "        \n",
              "  <svg xmlns=\"http://www.w3.org/2000/svg\" height=\"24px\"viewBox=\"0 0 24 24\"\n",
              "       width=\"24px\">\n",
              "    <path d=\"M0 0h24v24H0V0z\" fill=\"none\"/>\n",
              "    <path d=\"M18.56 5.44l.94 2.06.94-2.06 2.06-.94-2.06-.94-.94-2.06-.94 2.06-2.06.94zm-11 1L8.5 8.5l.94-2.06 2.06-.94-2.06-.94L8.5 2.5l-.94 2.06-2.06.94zm10 10l.94 2.06.94-2.06 2.06-.94-2.06-.94-.94-2.06-.94 2.06-2.06.94z\"/><path d=\"M17.41 7.96l-1.37-1.37c-.4-.4-.92-.59-1.43-.59-.52 0-1.04.2-1.43.59L10.3 9.45l-7.72 7.72c-.78.78-.78 2.05 0 2.83L4 21.41c.39.39.9.59 1.41.59.51 0 1.02-.2 1.41-.59l7.78-7.78 2.81-2.81c.8-.78.8-2.07 0-2.86zM5.41 20L4 18.59l7.72-7.72 1.47 1.35L5.41 20z\"/>\n",
              "  </svg>\n",
              "      </button>\n",
              "      \n",
              "  <style>\n",
              "    .colab-df-container {\n",
              "      display:flex;\n",
              "      flex-wrap:wrap;\n",
              "      gap: 12px;\n",
              "    }\n",
              "\n",
              "    .colab-df-convert {\n",
              "      background-color: #E8F0FE;\n",
              "      border: none;\n",
              "      border-radius: 50%;\n",
              "      cursor: pointer;\n",
              "      display: none;\n",
              "      fill: #1967D2;\n",
              "      height: 32px;\n",
              "      padding: 0 0 0 0;\n",
              "      width: 32px;\n",
              "    }\n",
              "\n",
              "    .colab-df-convert:hover {\n",
              "      background-color: #E2EBFA;\n",
              "      box-shadow: 0px 1px 2px rgba(60, 64, 67, 0.3), 0px 1px 3px 1px rgba(60, 64, 67, 0.15);\n",
              "      fill: #174EA6;\n",
              "    }\n",
              "\n",
              "    [theme=dark] .colab-df-convert {\n",
              "      background-color: #3B4455;\n",
              "      fill: #D2E3FC;\n",
              "    }\n",
              "\n",
              "    [theme=dark] .colab-df-convert:hover {\n",
              "      background-color: #434B5C;\n",
              "      box-shadow: 0px 1px 3px 1px rgba(0, 0, 0, 0.15);\n",
              "      filter: drop-shadow(0px 1px 2px rgba(0, 0, 0, 0.3));\n",
              "      fill: #FFFFFF;\n",
              "    }\n",
              "  </style>\n",
              "\n",
              "      <script>\n",
              "        const buttonEl =\n",
              "          document.querySelector('#df-47cc76be-38e9-477a-8aa9-bae6535d91f5 button.colab-df-convert');\n",
              "        buttonEl.style.display =\n",
              "          google.colab.kernel.accessAllowed ? 'block' : 'none';\n",
              "\n",
              "        async function convertToInteractive(key) {\n",
              "          const element = document.querySelector('#df-47cc76be-38e9-477a-8aa9-bae6535d91f5');\n",
              "          const dataTable =\n",
              "            await google.colab.kernel.invokeFunction('convertToInteractive',\n",
              "                                                     [key], {});\n",
              "          if (!dataTable) return;\n",
              "\n",
              "          const docLinkHtml = 'Like what you see? Visit the ' +\n",
              "            '<a target=\"_blank\" href=https://colab.research.google.com/notebooks/data_table.ipynb>data table notebook</a>'\n",
              "            + ' to learn more about interactive tables.';\n",
              "          element.innerHTML = '';\n",
              "          dataTable['output_type'] = 'display_data';\n",
              "          await google.colab.output.renderOutput(dataTable, element);\n",
              "          const docLink = document.createElement('div');\n",
              "          docLink.innerHTML = docLinkHtml;\n",
              "          element.appendChild(docLink);\n",
              "        }\n",
              "      </script>\n",
              "    </div>\n",
              "  </div>\n",
              "  "
            ]
          },
          "metadata": {},
          "execution_count": 40
        }
      ]
    },
    {
      "cell_type": "markdown",
      "metadata": {
        "id": "8106e41b"
      },
      "source": [
        "Si deseamos adherir información manualmente podemos entonces tener:"
      ],
      "id": "8106e41b"
    },
    {
      "cell_type": "code",
      "metadata": {
        "id": "0a339d48",
        "outputId": "5381529a-4203-4ada-9c02-46a4f7fa0310",
        "colab": {
          "base_uri": "https://localhost:8080/",
          "height": 143
        }
      },
      "source": [
        "aos=[2019,2020,2021]\n",
        "Info= [['12500','13400','19200'],['25800','26900','12400'],['49700','76200','77200']]\n",
        "df = pd.DataFrame(Info, columns=col, index=aos)\n",
        "df"
      ],
      "id": "0a339d48",
      "execution_count": 41,
      "outputs": [
        {
          "output_type": "execute_result",
          "data": {
            "text/plain": [
              "     Santa_Marta Barranquilla Cartagena\n",
              "2019       12500        13400     19200\n",
              "2020       25800        26900     12400\n",
              "2021       49700        76200     77200"
            ],
            "text/html": [
              "\n",
              "  <div id=\"df-901af48d-71cf-4c72-83f5-ab7a25b972b1\">\n",
              "    <div class=\"colab-df-container\">\n",
              "      <div>\n",
              "<style scoped>\n",
              "    .dataframe tbody tr th:only-of-type {\n",
              "        vertical-align: middle;\n",
              "    }\n",
              "\n",
              "    .dataframe tbody tr th {\n",
              "        vertical-align: top;\n",
              "    }\n",
              "\n",
              "    .dataframe thead th {\n",
              "        text-align: right;\n",
              "    }\n",
              "</style>\n",
              "<table border=\"1\" class=\"dataframe\">\n",
              "  <thead>\n",
              "    <tr style=\"text-align: right;\">\n",
              "      <th></th>\n",
              "      <th>Santa_Marta</th>\n",
              "      <th>Barranquilla</th>\n",
              "      <th>Cartagena</th>\n",
              "    </tr>\n",
              "  </thead>\n",
              "  <tbody>\n",
              "    <tr>\n",
              "      <th>2019</th>\n",
              "      <td>12500</td>\n",
              "      <td>13400</td>\n",
              "      <td>19200</td>\n",
              "    </tr>\n",
              "    <tr>\n",
              "      <th>2020</th>\n",
              "      <td>25800</td>\n",
              "      <td>26900</td>\n",
              "      <td>12400</td>\n",
              "    </tr>\n",
              "    <tr>\n",
              "      <th>2021</th>\n",
              "      <td>49700</td>\n",
              "      <td>76200</td>\n",
              "      <td>77200</td>\n",
              "    </tr>\n",
              "  </tbody>\n",
              "</table>\n",
              "</div>\n",
              "      <button class=\"colab-df-convert\" onclick=\"convertToInteractive('df-901af48d-71cf-4c72-83f5-ab7a25b972b1')\"\n",
              "              title=\"Convert this dataframe to an interactive table.\"\n",
              "              style=\"display:none;\">\n",
              "        \n",
              "  <svg xmlns=\"http://www.w3.org/2000/svg\" height=\"24px\"viewBox=\"0 0 24 24\"\n",
              "       width=\"24px\">\n",
              "    <path d=\"M0 0h24v24H0V0z\" fill=\"none\"/>\n",
              "    <path d=\"M18.56 5.44l.94 2.06.94-2.06 2.06-.94-2.06-.94-.94-2.06-.94 2.06-2.06.94zm-11 1L8.5 8.5l.94-2.06 2.06-.94-2.06-.94L8.5 2.5l-.94 2.06-2.06.94zm10 10l.94 2.06.94-2.06 2.06-.94-2.06-.94-.94-2.06-.94 2.06-2.06.94z\"/><path d=\"M17.41 7.96l-1.37-1.37c-.4-.4-.92-.59-1.43-.59-.52 0-1.04.2-1.43.59L10.3 9.45l-7.72 7.72c-.78.78-.78 2.05 0 2.83L4 21.41c.39.39.9.59 1.41.59.51 0 1.02-.2 1.41-.59l7.78-7.78 2.81-2.81c.8-.78.8-2.07 0-2.86zM5.41 20L4 18.59l7.72-7.72 1.47 1.35L5.41 20z\"/>\n",
              "  </svg>\n",
              "      </button>\n",
              "      \n",
              "  <style>\n",
              "    .colab-df-container {\n",
              "      display:flex;\n",
              "      flex-wrap:wrap;\n",
              "      gap: 12px;\n",
              "    }\n",
              "\n",
              "    .colab-df-convert {\n",
              "      background-color: #E8F0FE;\n",
              "      border: none;\n",
              "      border-radius: 50%;\n",
              "      cursor: pointer;\n",
              "      display: none;\n",
              "      fill: #1967D2;\n",
              "      height: 32px;\n",
              "      padding: 0 0 0 0;\n",
              "      width: 32px;\n",
              "    }\n",
              "\n",
              "    .colab-df-convert:hover {\n",
              "      background-color: #E2EBFA;\n",
              "      box-shadow: 0px 1px 2px rgba(60, 64, 67, 0.3), 0px 1px 3px 1px rgba(60, 64, 67, 0.15);\n",
              "      fill: #174EA6;\n",
              "    }\n",
              "\n",
              "    [theme=dark] .colab-df-convert {\n",
              "      background-color: #3B4455;\n",
              "      fill: #D2E3FC;\n",
              "    }\n",
              "\n",
              "    [theme=dark] .colab-df-convert:hover {\n",
              "      background-color: #434B5C;\n",
              "      box-shadow: 0px 1px 3px 1px rgba(0, 0, 0, 0.15);\n",
              "      filter: drop-shadow(0px 1px 2px rgba(0, 0, 0, 0.3));\n",
              "      fill: #FFFFFF;\n",
              "    }\n",
              "  </style>\n",
              "\n",
              "      <script>\n",
              "        const buttonEl =\n",
              "          document.querySelector('#df-901af48d-71cf-4c72-83f5-ab7a25b972b1 button.colab-df-convert');\n",
              "        buttonEl.style.display =\n",
              "          google.colab.kernel.accessAllowed ? 'block' : 'none';\n",
              "\n",
              "        async function convertToInteractive(key) {\n",
              "          const element = document.querySelector('#df-901af48d-71cf-4c72-83f5-ab7a25b972b1');\n",
              "          const dataTable =\n",
              "            await google.colab.kernel.invokeFunction('convertToInteractive',\n",
              "                                                     [key], {});\n",
              "          if (!dataTable) return;\n",
              "\n",
              "          const docLinkHtml = 'Like what you see? Visit the ' +\n",
              "            '<a target=\"_blank\" href=https://colab.research.google.com/notebooks/data_table.ipynb>data table notebook</a>'\n",
              "            + ' to learn more about interactive tables.';\n",
              "          element.innerHTML = '';\n",
              "          dataTable['output_type'] = 'display_data';\n",
              "          await google.colab.output.renderOutput(dataTable, element);\n",
              "          const docLink = document.createElement('div');\n",
              "          docLink.innerHTML = docLinkHtml;\n",
              "          element.appendChild(docLink);\n",
              "        }\n",
              "      </script>\n",
              "    </div>\n",
              "  </div>\n",
              "  "
            ]
          },
          "metadata": {},
          "execution_count": 41
        }
      ]
    },
    {
      "cell_type": "markdown",
      "metadata": {
        "id": "7221fa28"
      },
      "source": [
        "Otra forma de hacerlo es con los diccionarios"
      ],
      "id": "7221fa28"
    },
    {
      "cell_type": "code",
      "metadata": {
        "id": "b8b22053",
        "outputId": "58b294f1-e201-4709-9c88-6431497e7696",
        "colab": {
          "base_uri": "https://localhost:8080/",
          "height": 143
        }
      },
      "source": [
        "Datos= {'SMR':[12500,13400,19200],'BQR':[25800,26900,12400],'CTG':[49700,76200,None]}\n",
        "df = pd.DataFrame(Datos)\n",
        "df"
      ],
      "id": "b8b22053",
      "execution_count": 42,
      "outputs": [
        {
          "output_type": "execute_result",
          "data": {
            "text/plain": [
              "     SMR    BQR      CTG\n",
              "0  12500  25800  49700.0\n",
              "1  13400  26900  76200.0\n",
              "2  19200  12400      NaN"
            ],
            "text/html": [
              "\n",
              "  <div id=\"df-fb65a747-4114-4dd9-b458-71e213014d38\">\n",
              "    <div class=\"colab-df-container\">\n",
              "      <div>\n",
              "<style scoped>\n",
              "    .dataframe tbody tr th:only-of-type {\n",
              "        vertical-align: middle;\n",
              "    }\n",
              "\n",
              "    .dataframe tbody tr th {\n",
              "        vertical-align: top;\n",
              "    }\n",
              "\n",
              "    .dataframe thead th {\n",
              "        text-align: right;\n",
              "    }\n",
              "</style>\n",
              "<table border=\"1\" class=\"dataframe\">\n",
              "  <thead>\n",
              "    <tr style=\"text-align: right;\">\n",
              "      <th></th>\n",
              "      <th>SMR</th>\n",
              "      <th>BQR</th>\n",
              "      <th>CTG</th>\n",
              "    </tr>\n",
              "  </thead>\n",
              "  <tbody>\n",
              "    <tr>\n",
              "      <th>0</th>\n",
              "      <td>12500</td>\n",
              "      <td>25800</td>\n",
              "      <td>49700.0</td>\n",
              "    </tr>\n",
              "    <tr>\n",
              "      <th>1</th>\n",
              "      <td>13400</td>\n",
              "      <td>26900</td>\n",
              "      <td>76200.0</td>\n",
              "    </tr>\n",
              "    <tr>\n",
              "      <th>2</th>\n",
              "      <td>19200</td>\n",
              "      <td>12400</td>\n",
              "      <td>NaN</td>\n",
              "    </tr>\n",
              "  </tbody>\n",
              "</table>\n",
              "</div>\n",
              "      <button class=\"colab-df-convert\" onclick=\"convertToInteractive('df-fb65a747-4114-4dd9-b458-71e213014d38')\"\n",
              "              title=\"Convert this dataframe to an interactive table.\"\n",
              "              style=\"display:none;\">\n",
              "        \n",
              "  <svg xmlns=\"http://www.w3.org/2000/svg\" height=\"24px\"viewBox=\"0 0 24 24\"\n",
              "       width=\"24px\">\n",
              "    <path d=\"M0 0h24v24H0V0z\" fill=\"none\"/>\n",
              "    <path d=\"M18.56 5.44l.94 2.06.94-2.06 2.06-.94-2.06-.94-.94-2.06-.94 2.06-2.06.94zm-11 1L8.5 8.5l.94-2.06 2.06-.94-2.06-.94L8.5 2.5l-.94 2.06-2.06.94zm10 10l.94 2.06.94-2.06 2.06-.94-2.06-.94-.94-2.06-.94 2.06-2.06.94z\"/><path d=\"M17.41 7.96l-1.37-1.37c-.4-.4-.92-.59-1.43-.59-.52 0-1.04.2-1.43.59L10.3 9.45l-7.72 7.72c-.78.78-.78 2.05 0 2.83L4 21.41c.39.39.9.59 1.41.59.51 0 1.02-.2 1.41-.59l7.78-7.78 2.81-2.81c.8-.78.8-2.07 0-2.86zM5.41 20L4 18.59l7.72-7.72 1.47 1.35L5.41 20z\"/>\n",
              "  </svg>\n",
              "      </button>\n",
              "      \n",
              "  <style>\n",
              "    .colab-df-container {\n",
              "      display:flex;\n",
              "      flex-wrap:wrap;\n",
              "      gap: 12px;\n",
              "    }\n",
              "\n",
              "    .colab-df-convert {\n",
              "      background-color: #E8F0FE;\n",
              "      border: none;\n",
              "      border-radius: 50%;\n",
              "      cursor: pointer;\n",
              "      display: none;\n",
              "      fill: #1967D2;\n",
              "      height: 32px;\n",
              "      padding: 0 0 0 0;\n",
              "      width: 32px;\n",
              "    }\n",
              "\n",
              "    .colab-df-convert:hover {\n",
              "      background-color: #E2EBFA;\n",
              "      box-shadow: 0px 1px 2px rgba(60, 64, 67, 0.3), 0px 1px 3px 1px rgba(60, 64, 67, 0.15);\n",
              "      fill: #174EA6;\n",
              "    }\n",
              "\n",
              "    [theme=dark] .colab-df-convert {\n",
              "      background-color: #3B4455;\n",
              "      fill: #D2E3FC;\n",
              "    }\n",
              "\n",
              "    [theme=dark] .colab-df-convert:hover {\n",
              "      background-color: #434B5C;\n",
              "      box-shadow: 0px 1px 3px 1px rgba(0, 0, 0, 0.15);\n",
              "      filter: drop-shadow(0px 1px 2px rgba(0, 0, 0, 0.3));\n",
              "      fill: #FFFFFF;\n",
              "    }\n",
              "  </style>\n",
              "\n",
              "      <script>\n",
              "        const buttonEl =\n",
              "          document.querySelector('#df-fb65a747-4114-4dd9-b458-71e213014d38 button.colab-df-convert');\n",
              "        buttonEl.style.display =\n",
              "          google.colab.kernel.accessAllowed ? 'block' : 'none';\n",
              "\n",
              "        async function convertToInteractive(key) {\n",
              "          const element = document.querySelector('#df-fb65a747-4114-4dd9-b458-71e213014d38');\n",
              "          const dataTable =\n",
              "            await google.colab.kernel.invokeFunction('convertToInteractive',\n",
              "                                                     [key], {});\n",
              "          if (!dataTable) return;\n",
              "\n",
              "          const docLinkHtml = 'Like what you see? Visit the ' +\n",
              "            '<a target=\"_blank\" href=https://colab.research.google.com/notebooks/data_table.ipynb>data table notebook</a>'\n",
              "            + ' to learn more about interactive tables.';\n",
              "          element.innerHTML = '';\n",
              "          dataTable['output_type'] = 'display_data';\n",
              "          await google.colab.output.renderOutput(dataTable, element);\n",
              "          const docLink = document.createElement('div');\n",
              "          docLink.innerHTML = docLinkHtml;\n",
              "          element.appendChild(docLink);\n",
              "        }\n",
              "      </script>\n",
              "    </div>\n",
              "  </div>\n",
              "  "
            ]
          },
          "metadata": {},
          "execution_count": 42
        }
      ]
    },
    {
      "cell_type": "markdown",
      "metadata": {
        "id": "263dba24"
      },
      "source": [
        "### Practica\n",
        "Intende adherir los años como indice de la data frame anterior."
      ],
      "id": "263dba24"
    },
    {
      "cell_type": "code",
      "metadata": {
        "id": "5af401a5",
        "outputId": "06270d1d-20bd-41b7-92b7-dc2c71cb7c08",
        "colab": {
          "base_uri": "https://localhost:8080/",
          "height": 143
        }
      },
      "source": [
        "Datos= {'SMR':[12500,13400,19200],'BQR':[25800,26900,12400],'CTG':[49700,76200,None],'aos':[2019,2020,2021]}\n",
        "df = pd.DataFrame(Datos, index=aos)\n",
        "df"
      ],
      "id": "5af401a5",
      "execution_count": 43,
      "outputs": [
        {
          "output_type": "execute_result",
          "data": {
            "text/plain": [
              "        SMR    BQR      CTG   aos\n",
              "2019  12500  25800  49700.0  2019\n",
              "2020  13400  26900  76200.0  2020\n",
              "2021  19200  12400      NaN  2021"
            ],
            "text/html": [
              "\n",
              "  <div id=\"df-3f5fe328-1306-48b9-8e7d-61bb7ab02d85\">\n",
              "    <div class=\"colab-df-container\">\n",
              "      <div>\n",
              "<style scoped>\n",
              "    .dataframe tbody tr th:only-of-type {\n",
              "        vertical-align: middle;\n",
              "    }\n",
              "\n",
              "    .dataframe tbody tr th {\n",
              "        vertical-align: top;\n",
              "    }\n",
              "\n",
              "    .dataframe thead th {\n",
              "        text-align: right;\n",
              "    }\n",
              "</style>\n",
              "<table border=\"1\" class=\"dataframe\">\n",
              "  <thead>\n",
              "    <tr style=\"text-align: right;\">\n",
              "      <th></th>\n",
              "      <th>SMR</th>\n",
              "      <th>BQR</th>\n",
              "      <th>CTG</th>\n",
              "      <th>aos</th>\n",
              "    </tr>\n",
              "  </thead>\n",
              "  <tbody>\n",
              "    <tr>\n",
              "      <th>2019</th>\n",
              "      <td>12500</td>\n",
              "      <td>25800</td>\n",
              "      <td>49700.0</td>\n",
              "      <td>2019</td>\n",
              "    </tr>\n",
              "    <tr>\n",
              "      <th>2020</th>\n",
              "      <td>13400</td>\n",
              "      <td>26900</td>\n",
              "      <td>76200.0</td>\n",
              "      <td>2020</td>\n",
              "    </tr>\n",
              "    <tr>\n",
              "      <th>2021</th>\n",
              "      <td>19200</td>\n",
              "      <td>12400</td>\n",
              "      <td>NaN</td>\n",
              "      <td>2021</td>\n",
              "    </tr>\n",
              "  </tbody>\n",
              "</table>\n",
              "</div>\n",
              "      <button class=\"colab-df-convert\" onclick=\"convertToInteractive('df-3f5fe328-1306-48b9-8e7d-61bb7ab02d85')\"\n",
              "              title=\"Convert this dataframe to an interactive table.\"\n",
              "              style=\"display:none;\">\n",
              "        \n",
              "  <svg xmlns=\"http://www.w3.org/2000/svg\" height=\"24px\"viewBox=\"0 0 24 24\"\n",
              "       width=\"24px\">\n",
              "    <path d=\"M0 0h24v24H0V0z\" fill=\"none\"/>\n",
              "    <path d=\"M18.56 5.44l.94 2.06.94-2.06 2.06-.94-2.06-.94-.94-2.06-.94 2.06-2.06.94zm-11 1L8.5 8.5l.94-2.06 2.06-.94-2.06-.94L8.5 2.5l-.94 2.06-2.06.94zm10 10l.94 2.06.94-2.06 2.06-.94-2.06-.94-.94-2.06-.94 2.06-2.06.94z\"/><path d=\"M17.41 7.96l-1.37-1.37c-.4-.4-.92-.59-1.43-.59-.52 0-1.04.2-1.43.59L10.3 9.45l-7.72 7.72c-.78.78-.78 2.05 0 2.83L4 21.41c.39.39.9.59 1.41.59.51 0 1.02-.2 1.41-.59l7.78-7.78 2.81-2.81c.8-.78.8-2.07 0-2.86zM5.41 20L4 18.59l7.72-7.72 1.47 1.35L5.41 20z\"/>\n",
              "  </svg>\n",
              "      </button>\n",
              "      \n",
              "  <style>\n",
              "    .colab-df-container {\n",
              "      display:flex;\n",
              "      flex-wrap:wrap;\n",
              "      gap: 12px;\n",
              "    }\n",
              "\n",
              "    .colab-df-convert {\n",
              "      background-color: #E8F0FE;\n",
              "      border: none;\n",
              "      border-radius: 50%;\n",
              "      cursor: pointer;\n",
              "      display: none;\n",
              "      fill: #1967D2;\n",
              "      height: 32px;\n",
              "      padding: 0 0 0 0;\n",
              "      width: 32px;\n",
              "    }\n",
              "\n",
              "    .colab-df-convert:hover {\n",
              "      background-color: #E2EBFA;\n",
              "      box-shadow: 0px 1px 2px rgba(60, 64, 67, 0.3), 0px 1px 3px 1px rgba(60, 64, 67, 0.15);\n",
              "      fill: #174EA6;\n",
              "    }\n",
              "\n",
              "    [theme=dark] .colab-df-convert {\n",
              "      background-color: #3B4455;\n",
              "      fill: #D2E3FC;\n",
              "    }\n",
              "\n",
              "    [theme=dark] .colab-df-convert:hover {\n",
              "      background-color: #434B5C;\n",
              "      box-shadow: 0px 1px 3px 1px rgba(0, 0, 0, 0.15);\n",
              "      filter: drop-shadow(0px 1px 2px rgba(0, 0, 0, 0.3));\n",
              "      fill: #FFFFFF;\n",
              "    }\n",
              "  </style>\n",
              "\n",
              "      <script>\n",
              "        const buttonEl =\n",
              "          document.querySelector('#df-3f5fe328-1306-48b9-8e7d-61bb7ab02d85 button.colab-df-convert');\n",
              "        buttonEl.style.display =\n",
              "          google.colab.kernel.accessAllowed ? 'block' : 'none';\n",
              "\n",
              "        async function convertToInteractive(key) {\n",
              "          const element = document.querySelector('#df-3f5fe328-1306-48b9-8e7d-61bb7ab02d85');\n",
              "          const dataTable =\n",
              "            await google.colab.kernel.invokeFunction('convertToInteractive',\n",
              "                                                     [key], {});\n",
              "          if (!dataTable) return;\n",
              "\n",
              "          const docLinkHtml = 'Like what you see? Visit the ' +\n",
              "            '<a target=\"_blank\" href=https://colab.research.google.com/notebooks/data_table.ipynb>data table notebook</a>'\n",
              "            + ' to learn more about interactive tables.';\n",
              "          element.innerHTML = '';\n",
              "          dataTable['output_type'] = 'display_data';\n",
              "          await google.colab.output.renderOutput(dataTable, element);\n",
              "          const docLink = document.createElement('div');\n",
              "          docLink.innerHTML = docLinkHtml;\n",
              "          element.appendChild(docLink);\n",
              "        }\n",
              "      </script>\n",
              "    </div>\n",
              "  </div>\n",
              "  "
            ]
          },
          "metadata": {},
          "execution_count": 43
        }
      ]
    },
    {
      "cell_type": "code",
      "metadata": {
        "scrolled": true,
        "id": "37e0b7dd",
        "outputId": "df452df0-fb7d-4a2b-bfbd-94a32c2e6711",
        "colab": {
          "base_uri": "https://localhost:8080/",
          "height": 143
        }
      },
      "source": [
        "df=df.drop('aos',axis=1)\n",
        "df"
      ],
      "id": "37e0b7dd",
      "execution_count": 44,
      "outputs": [
        {
          "output_type": "execute_result",
          "data": {
            "text/plain": [
              "        SMR    BQR      CTG\n",
              "2019  12500  25800  49700.0\n",
              "2020  13400  26900  76200.0\n",
              "2021  19200  12400      NaN"
            ],
            "text/html": [
              "\n",
              "  <div id=\"df-90e22f8f-1fd2-450b-9684-92f34aaf26d0\">\n",
              "    <div class=\"colab-df-container\">\n",
              "      <div>\n",
              "<style scoped>\n",
              "    .dataframe tbody tr th:only-of-type {\n",
              "        vertical-align: middle;\n",
              "    }\n",
              "\n",
              "    .dataframe tbody tr th {\n",
              "        vertical-align: top;\n",
              "    }\n",
              "\n",
              "    .dataframe thead th {\n",
              "        text-align: right;\n",
              "    }\n",
              "</style>\n",
              "<table border=\"1\" class=\"dataframe\">\n",
              "  <thead>\n",
              "    <tr style=\"text-align: right;\">\n",
              "      <th></th>\n",
              "      <th>SMR</th>\n",
              "      <th>BQR</th>\n",
              "      <th>CTG</th>\n",
              "    </tr>\n",
              "  </thead>\n",
              "  <tbody>\n",
              "    <tr>\n",
              "      <th>2019</th>\n",
              "      <td>12500</td>\n",
              "      <td>25800</td>\n",
              "      <td>49700.0</td>\n",
              "    </tr>\n",
              "    <tr>\n",
              "      <th>2020</th>\n",
              "      <td>13400</td>\n",
              "      <td>26900</td>\n",
              "      <td>76200.0</td>\n",
              "    </tr>\n",
              "    <tr>\n",
              "      <th>2021</th>\n",
              "      <td>19200</td>\n",
              "      <td>12400</td>\n",
              "      <td>NaN</td>\n",
              "    </tr>\n",
              "  </tbody>\n",
              "</table>\n",
              "</div>\n",
              "      <button class=\"colab-df-convert\" onclick=\"convertToInteractive('df-90e22f8f-1fd2-450b-9684-92f34aaf26d0')\"\n",
              "              title=\"Convert this dataframe to an interactive table.\"\n",
              "              style=\"display:none;\">\n",
              "        \n",
              "  <svg xmlns=\"http://www.w3.org/2000/svg\" height=\"24px\"viewBox=\"0 0 24 24\"\n",
              "       width=\"24px\">\n",
              "    <path d=\"M0 0h24v24H0V0z\" fill=\"none\"/>\n",
              "    <path d=\"M18.56 5.44l.94 2.06.94-2.06 2.06-.94-2.06-.94-.94-2.06-.94 2.06-2.06.94zm-11 1L8.5 8.5l.94-2.06 2.06-.94-2.06-.94L8.5 2.5l-.94 2.06-2.06.94zm10 10l.94 2.06.94-2.06 2.06-.94-2.06-.94-.94-2.06-.94 2.06-2.06.94z\"/><path d=\"M17.41 7.96l-1.37-1.37c-.4-.4-.92-.59-1.43-.59-.52 0-1.04.2-1.43.59L10.3 9.45l-7.72 7.72c-.78.78-.78 2.05 0 2.83L4 21.41c.39.39.9.59 1.41.59.51 0 1.02-.2 1.41-.59l7.78-7.78 2.81-2.81c.8-.78.8-2.07 0-2.86zM5.41 20L4 18.59l7.72-7.72 1.47 1.35L5.41 20z\"/>\n",
              "  </svg>\n",
              "      </button>\n",
              "      \n",
              "  <style>\n",
              "    .colab-df-container {\n",
              "      display:flex;\n",
              "      flex-wrap:wrap;\n",
              "      gap: 12px;\n",
              "    }\n",
              "\n",
              "    .colab-df-convert {\n",
              "      background-color: #E8F0FE;\n",
              "      border: none;\n",
              "      border-radius: 50%;\n",
              "      cursor: pointer;\n",
              "      display: none;\n",
              "      fill: #1967D2;\n",
              "      height: 32px;\n",
              "      padding: 0 0 0 0;\n",
              "      width: 32px;\n",
              "    }\n",
              "\n",
              "    .colab-df-convert:hover {\n",
              "      background-color: #E2EBFA;\n",
              "      box-shadow: 0px 1px 2px rgba(60, 64, 67, 0.3), 0px 1px 3px 1px rgba(60, 64, 67, 0.15);\n",
              "      fill: #174EA6;\n",
              "    }\n",
              "\n",
              "    [theme=dark] .colab-df-convert {\n",
              "      background-color: #3B4455;\n",
              "      fill: #D2E3FC;\n",
              "    }\n",
              "\n",
              "    [theme=dark] .colab-df-convert:hover {\n",
              "      background-color: #434B5C;\n",
              "      box-shadow: 0px 1px 3px 1px rgba(0, 0, 0, 0.15);\n",
              "      filter: drop-shadow(0px 1px 2px rgba(0, 0, 0, 0.3));\n",
              "      fill: #FFFFFF;\n",
              "    }\n",
              "  </style>\n",
              "\n",
              "      <script>\n",
              "        const buttonEl =\n",
              "          document.querySelector('#df-90e22f8f-1fd2-450b-9684-92f34aaf26d0 button.colab-df-convert');\n",
              "        buttonEl.style.display =\n",
              "          google.colab.kernel.accessAllowed ? 'block' : 'none';\n",
              "\n",
              "        async function convertToInteractive(key) {\n",
              "          const element = document.querySelector('#df-90e22f8f-1fd2-450b-9684-92f34aaf26d0');\n",
              "          const dataTable =\n",
              "            await google.colab.kernel.invokeFunction('convertToInteractive',\n",
              "                                                     [key], {});\n",
              "          if (!dataTable) return;\n",
              "\n",
              "          const docLinkHtml = 'Like what you see? Visit the ' +\n",
              "            '<a target=\"_blank\" href=https://colab.research.google.com/notebooks/data_table.ipynb>data table notebook</a>'\n",
              "            + ' to learn more about interactive tables.';\n",
              "          element.innerHTML = '';\n",
              "          dataTable['output_type'] = 'display_data';\n",
              "          await google.colab.output.renderOutput(dataTable, element);\n",
              "          const docLink = document.createElement('div');\n",
              "          docLink.innerHTML = docLinkHtml;\n",
              "          element.appendChild(docLink);\n",
              "        }\n",
              "      </script>\n",
              "    </div>\n",
              "  </div>\n",
              "  "
            ]
          },
          "metadata": {},
          "execution_count": 44
        }
      ]
    },
    {
      "cell_type": "markdown",
      "metadata": {
        "id": "15d021d2"
      },
      "source": [
        "Tambien puede renombrar las columnas como tal en **Python** con Pandas. La opción debe ser:"
      ],
      "id": "15d021d2"
    },
    {
      "cell_type": "code",
      "metadata": {
        "scrolled": true,
        "id": "544a3b38",
        "outputId": "80de6417-a5cf-4528-931e-a6a9c621ce7a",
        "colab": {
          "base_uri": "https://localhost:8080/",
          "height": 143
        }
      },
      "source": [
        "df = df.rename(columns={'SMR':'Santa Marta'})\n",
        "df"
      ],
      "id": "544a3b38",
      "execution_count": 45,
      "outputs": [
        {
          "output_type": "execute_result",
          "data": {
            "text/plain": [
              "      Santa Marta    BQR      CTG\n",
              "2019        12500  25800  49700.0\n",
              "2020        13400  26900  76200.0\n",
              "2021        19200  12400      NaN"
            ],
            "text/html": [
              "\n",
              "  <div id=\"df-e38a2598-4280-4bf3-91d6-1aeba7f7bbfd\">\n",
              "    <div class=\"colab-df-container\">\n",
              "      <div>\n",
              "<style scoped>\n",
              "    .dataframe tbody tr th:only-of-type {\n",
              "        vertical-align: middle;\n",
              "    }\n",
              "\n",
              "    .dataframe tbody tr th {\n",
              "        vertical-align: top;\n",
              "    }\n",
              "\n",
              "    .dataframe thead th {\n",
              "        text-align: right;\n",
              "    }\n",
              "</style>\n",
              "<table border=\"1\" class=\"dataframe\">\n",
              "  <thead>\n",
              "    <tr style=\"text-align: right;\">\n",
              "      <th></th>\n",
              "      <th>Santa Marta</th>\n",
              "      <th>BQR</th>\n",
              "      <th>CTG</th>\n",
              "    </tr>\n",
              "  </thead>\n",
              "  <tbody>\n",
              "    <tr>\n",
              "      <th>2019</th>\n",
              "      <td>12500</td>\n",
              "      <td>25800</td>\n",
              "      <td>49700.0</td>\n",
              "    </tr>\n",
              "    <tr>\n",
              "      <th>2020</th>\n",
              "      <td>13400</td>\n",
              "      <td>26900</td>\n",
              "      <td>76200.0</td>\n",
              "    </tr>\n",
              "    <tr>\n",
              "      <th>2021</th>\n",
              "      <td>19200</td>\n",
              "      <td>12400</td>\n",
              "      <td>NaN</td>\n",
              "    </tr>\n",
              "  </tbody>\n",
              "</table>\n",
              "</div>\n",
              "      <button class=\"colab-df-convert\" onclick=\"convertToInteractive('df-e38a2598-4280-4bf3-91d6-1aeba7f7bbfd')\"\n",
              "              title=\"Convert this dataframe to an interactive table.\"\n",
              "              style=\"display:none;\">\n",
              "        \n",
              "  <svg xmlns=\"http://www.w3.org/2000/svg\" height=\"24px\"viewBox=\"0 0 24 24\"\n",
              "       width=\"24px\">\n",
              "    <path d=\"M0 0h24v24H0V0z\" fill=\"none\"/>\n",
              "    <path d=\"M18.56 5.44l.94 2.06.94-2.06 2.06-.94-2.06-.94-.94-2.06-.94 2.06-2.06.94zm-11 1L8.5 8.5l.94-2.06 2.06-.94-2.06-.94L8.5 2.5l-.94 2.06-2.06.94zm10 10l.94 2.06.94-2.06 2.06-.94-2.06-.94-.94-2.06-.94 2.06-2.06.94z\"/><path d=\"M17.41 7.96l-1.37-1.37c-.4-.4-.92-.59-1.43-.59-.52 0-1.04.2-1.43.59L10.3 9.45l-7.72 7.72c-.78.78-.78 2.05 0 2.83L4 21.41c.39.39.9.59 1.41.59.51 0 1.02-.2 1.41-.59l7.78-7.78 2.81-2.81c.8-.78.8-2.07 0-2.86zM5.41 20L4 18.59l7.72-7.72 1.47 1.35L5.41 20z\"/>\n",
              "  </svg>\n",
              "      </button>\n",
              "      \n",
              "  <style>\n",
              "    .colab-df-container {\n",
              "      display:flex;\n",
              "      flex-wrap:wrap;\n",
              "      gap: 12px;\n",
              "    }\n",
              "\n",
              "    .colab-df-convert {\n",
              "      background-color: #E8F0FE;\n",
              "      border: none;\n",
              "      border-radius: 50%;\n",
              "      cursor: pointer;\n",
              "      display: none;\n",
              "      fill: #1967D2;\n",
              "      height: 32px;\n",
              "      padding: 0 0 0 0;\n",
              "      width: 32px;\n",
              "    }\n",
              "\n",
              "    .colab-df-convert:hover {\n",
              "      background-color: #E2EBFA;\n",
              "      box-shadow: 0px 1px 2px rgba(60, 64, 67, 0.3), 0px 1px 3px 1px rgba(60, 64, 67, 0.15);\n",
              "      fill: #174EA6;\n",
              "    }\n",
              "\n",
              "    [theme=dark] .colab-df-convert {\n",
              "      background-color: #3B4455;\n",
              "      fill: #D2E3FC;\n",
              "    }\n",
              "\n",
              "    [theme=dark] .colab-df-convert:hover {\n",
              "      background-color: #434B5C;\n",
              "      box-shadow: 0px 1px 3px 1px rgba(0, 0, 0, 0.15);\n",
              "      filter: drop-shadow(0px 1px 2px rgba(0, 0, 0, 0.3));\n",
              "      fill: #FFFFFF;\n",
              "    }\n",
              "  </style>\n",
              "\n",
              "      <script>\n",
              "        const buttonEl =\n",
              "          document.querySelector('#df-e38a2598-4280-4bf3-91d6-1aeba7f7bbfd button.colab-df-convert');\n",
              "        buttonEl.style.display =\n",
              "          google.colab.kernel.accessAllowed ? 'block' : 'none';\n",
              "\n",
              "        async function convertToInteractive(key) {\n",
              "          const element = document.querySelector('#df-e38a2598-4280-4bf3-91d6-1aeba7f7bbfd');\n",
              "          const dataTable =\n",
              "            await google.colab.kernel.invokeFunction('convertToInteractive',\n",
              "                                                     [key], {});\n",
              "          if (!dataTable) return;\n",
              "\n",
              "          const docLinkHtml = 'Like what you see? Visit the ' +\n",
              "            '<a target=\"_blank\" href=https://colab.research.google.com/notebooks/data_table.ipynb>data table notebook</a>'\n",
              "            + ' to learn more about interactive tables.';\n",
              "          element.innerHTML = '';\n",
              "          dataTable['output_type'] = 'display_data';\n",
              "          await google.colab.output.renderOutput(dataTable, element);\n",
              "          const docLink = document.createElement('div');\n",
              "          docLink.innerHTML = docLinkHtml;\n",
              "          element.appendChild(docLink);\n",
              "        }\n",
              "      </script>\n",
              "    </div>\n",
              "  </div>\n",
              "  "
            ]
          },
          "metadata": {},
          "execution_count": 45
        }
      ]
    },
    {
      "cell_type": "markdown",
      "metadata": {
        "id": "7dcaa063"
      },
      "source": [
        "Las opciones mas comunes de **Pandas** para parte de info del dataframe son:\n",
        "\n",
        "Dentro del trabajo del dataframe:\n",
        "\n",
        "~~~python\n",
        ".shape\n",
        ".head()\n",
        ".tail()\n",
        "~~~\n",
        "\n",
        "Y para de algunas estadísticas descriptivas\n",
        "~~~python\n",
        ".describe()\n",
        ".quantile()\n",
        "~~~\n"
      ],
      "id": "7dcaa063"
    },
    {
      "cell_type": "code",
      "metadata": {
        "id": "f1b62484",
        "outputId": "706ff6d8-d3b4-4589-d161-89bfb0300a48",
        "colab": {
          "base_uri": "https://localhost:8080/"
        }
      },
      "source": [
        "df.shape"
      ],
      "id": "f1b62484",
      "execution_count": 46,
      "outputs": [
        {
          "output_type": "execute_result",
          "data": {
            "text/plain": [
              "(3, 3)"
            ]
          },
          "metadata": {},
          "execution_count": 46
        }
      ]
    },
    {
      "cell_type": "code",
      "metadata": {
        "id": "5ae86094",
        "outputId": "b775ae9f-a360-4287-9153-7628de51c0e2",
        "colab": {
          "base_uri": "https://localhost:8080/",
          "height": 80
        }
      },
      "source": [
        "df.head(1)"
      ],
      "id": "5ae86094",
      "execution_count": 47,
      "outputs": [
        {
          "output_type": "execute_result",
          "data": {
            "text/plain": [
              "      Santa Marta    BQR      CTG\n",
              "2019        12500  25800  49700.0"
            ],
            "text/html": [
              "\n",
              "  <div id=\"df-cf65ca2c-d227-4505-bbec-f8f3ba238269\">\n",
              "    <div class=\"colab-df-container\">\n",
              "      <div>\n",
              "<style scoped>\n",
              "    .dataframe tbody tr th:only-of-type {\n",
              "        vertical-align: middle;\n",
              "    }\n",
              "\n",
              "    .dataframe tbody tr th {\n",
              "        vertical-align: top;\n",
              "    }\n",
              "\n",
              "    .dataframe thead th {\n",
              "        text-align: right;\n",
              "    }\n",
              "</style>\n",
              "<table border=\"1\" class=\"dataframe\">\n",
              "  <thead>\n",
              "    <tr style=\"text-align: right;\">\n",
              "      <th></th>\n",
              "      <th>Santa Marta</th>\n",
              "      <th>BQR</th>\n",
              "      <th>CTG</th>\n",
              "    </tr>\n",
              "  </thead>\n",
              "  <tbody>\n",
              "    <tr>\n",
              "      <th>2019</th>\n",
              "      <td>12500</td>\n",
              "      <td>25800</td>\n",
              "      <td>49700.0</td>\n",
              "    </tr>\n",
              "  </tbody>\n",
              "</table>\n",
              "</div>\n",
              "      <button class=\"colab-df-convert\" onclick=\"convertToInteractive('df-cf65ca2c-d227-4505-bbec-f8f3ba238269')\"\n",
              "              title=\"Convert this dataframe to an interactive table.\"\n",
              "              style=\"display:none;\">\n",
              "        \n",
              "  <svg xmlns=\"http://www.w3.org/2000/svg\" height=\"24px\"viewBox=\"0 0 24 24\"\n",
              "       width=\"24px\">\n",
              "    <path d=\"M0 0h24v24H0V0z\" fill=\"none\"/>\n",
              "    <path d=\"M18.56 5.44l.94 2.06.94-2.06 2.06-.94-2.06-.94-.94-2.06-.94 2.06-2.06.94zm-11 1L8.5 8.5l.94-2.06 2.06-.94-2.06-.94L8.5 2.5l-.94 2.06-2.06.94zm10 10l.94 2.06.94-2.06 2.06-.94-2.06-.94-.94-2.06-.94 2.06-2.06.94z\"/><path d=\"M17.41 7.96l-1.37-1.37c-.4-.4-.92-.59-1.43-.59-.52 0-1.04.2-1.43.59L10.3 9.45l-7.72 7.72c-.78.78-.78 2.05 0 2.83L4 21.41c.39.39.9.59 1.41.59.51 0 1.02-.2 1.41-.59l7.78-7.78 2.81-2.81c.8-.78.8-2.07 0-2.86zM5.41 20L4 18.59l7.72-7.72 1.47 1.35L5.41 20z\"/>\n",
              "  </svg>\n",
              "      </button>\n",
              "      \n",
              "  <style>\n",
              "    .colab-df-container {\n",
              "      display:flex;\n",
              "      flex-wrap:wrap;\n",
              "      gap: 12px;\n",
              "    }\n",
              "\n",
              "    .colab-df-convert {\n",
              "      background-color: #E8F0FE;\n",
              "      border: none;\n",
              "      border-radius: 50%;\n",
              "      cursor: pointer;\n",
              "      display: none;\n",
              "      fill: #1967D2;\n",
              "      height: 32px;\n",
              "      padding: 0 0 0 0;\n",
              "      width: 32px;\n",
              "    }\n",
              "\n",
              "    .colab-df-convert:hover {\n",
              "      background-color: #E2EBFA;\n",
              "      box-shadow: 0px 1px 2px rgba(60, 64, 67, 0.3), 0px 1px 3px 1px rgba(60, 64, 67, 0.15);\n",
              "      fill: #174EA6;\n",
              "    }\n",
              "\n",
              "    [theme=dark] .colab-df-convert {\n",
              "      background-color: #3B4455;\n",
              "      fill: #D2E3FC;\n",
              "    }\n",
              "\n",
              "    [theme=dark] .colab-df-convert:hover {\n",
              "      background-color: #434B5C;\n",
              "      box-shadow: 0px 1px 3px 1px rgba(0, 0, 0, 0.15);\n",
              "      filter: drop-shadow(0px 1px 2px rgba(0, 0, 0, 0.3));\n",
              "      fill: #FFFFFF;\n",
              "    }\n",
              "  </style>\n",
              "\n",
              "      <script>\n",
              "        const buttonEl =\n",
              "          document.querySelector('#df-cf65ca2c-d227-4505-bbec-f8f3ba238269 button.colab-df-convert');\n",
              "        buttonEl.style.display =\n",
              "          google.colab.kernel.accessAllowed ? 'block' : 'none';\n",
              "\n",
              "        async function convertToInteractive(key) {\n",
              "          const element = document.querySelector('#df-cf65ca2c-d227-4505-bbec-f8f3ba238269');\n",
              "          const dataTable =\n",
              "            await google.colab.kernel.invokeFunction('convertToInteractive',\n",
              "                                                     [key], {});\n",
              "          if (!dataTable) return;\n",
              "\n",
              "          const docLinkHtml = 'Like what you see? Visit the ' +\n",
              "            '<a target=\"_blank\" href=https://colab.research.google.com/notebooks/data_table.ipynb>data table notebook</a>'\n",
              "            + ' to learn more about interactive tables.';\n",
              "          element.innerHTML = '';\n",
              "          dataTable['output_type'] = 'display_data';\n",
              "          await google.colab.output.renderOutput(dataTable, element);\n",
              "          const docLink = document.createElement('div');\n",
              "          docLink.innerHTML = docLinkHtml;\n",
              "          element.appendChild(docLink);\n",
              "        }\n",
              "      </script>\n",
              "    </div>\n",
              "  </div>\n",
              "  "
            ]
          },
          "metadata": {},
          "execution_count": 47
        }
      ]
    },
    {
      "cell_type": "code",
      "metadata": {
        "id": "b22e174b",
        "outputId": "9ed9b151-90a0-414e-e645-31e593305e92",
        "colab": {
          "base_uri": "https://localhost:8080/",
          "height": 80
        }
      },
      "source": [
        "df.tail(1)"
      ],
      "id": "b22e174b",
      "execution_count": 48,
      "outputs": [
        {
          "output_type": "execute_result",
          "data": {
            "text/plain": [
              "      Santa Marta    BQR  CTG\n",
              "2021        19200  12400  NaN"
            ],
            "text/html": [
              "\n",
              "  <div id=\"df-27d3dd09-cb02-4a6a-aa07-cf12f52fda1a\">\n",
              "    <div class=\"colab-df-container\">\n",
              "      <div>\n",
              "<style scoped>\n",
              "    .dataframe tbody tr th:only-of-type {\n",
              "        vertical-align: middle;\n",
              "    }\n",
              "\n",
              "    .dataframe tbody tr th {\n",
              "        vertical-align: top;\n",
              "    }\n",
              "\n",
              "    .dataframe thead th {\n",
              "        text-align: right;\n",
              "    }\n",
              "</style>\n",
              "<table border=\"1\" class=\"dataframe\">\n",
              "  <thead>\n",
              "    <tr style=\"text-align: right;\">\n",
              "      <th></th>\n",
              "      <th>Santa Marta</th>\n",
              "      <th>BQR</th>\n",
              "      <th>CTG</th>\n",
              "    </tr>\n",
              "  </thead>\n",
              "  <tbody>\n",
              "    <tr>\n",
              "      <th>2021</th>\n",
              "      <td>19200</td>\n",
              "      <td>12400</td>\n",
              "      <td>NaN</td>\n",
              "    </tr>\n",
              "  </tbody>\n",
              "</table>\n",
              "</div>\n",
              "      <button class=\"colab-df-convert\" onclick=\"convertToInteractive('df-27d3dd09-cb02-4a6a-aa07-cf12f52fda1a')\"\n",
              "              title=\"Convert this dataframe to an interactive table.\"\n",
              "              style=\"display:none;\">\n",
              "        \n",
              "  <svg xmlns=\"http://www.w3.org/2000/svg\" height=\"24px\"viewBox=\"0 0 24 24\"\n",
              "       width=\"24px\">\n",
              "    <path d=\"M0 0h24v24H0V0z\" fill=\"none\"/>\n",
              "    <path d=\"M18.56 5.44l.94 2.06.94-2.06 2.06-.94-2.06-.94-.94-2.06-.94 2.06-2.06.94zm-11 1L8.5 8.5l.94-2.06 2.06-.94-2.06-.94L8.5 2.5l-.94 2.06-2.06.94zm10 10l.94 2.06.94-2.06 2.06-.94-2.06-.94-.94-2.06-.94 2.06-2.06.94z\"/><path d=\"M17.41 7.96l-1.37-1.37c-.4-.4-.92-.59-1.43-.59-.52 0-1.04.2-1.43.59L10.3 9.45l-7.72 7.72c-.78.78-.78 2.05 0 2.83L4 21.41c.39.39.9.59 1.41.59.51 0 1.02-.2 1.41-.59l7.78-7.78 2.81-2.81c.8-.78.8-2.07 0-2.86zM5.41 20L4 18.59l7.72-7.72 1.47 1.35L5.41 20z\"/>\n",
              "  </svg>\n",
              "      </button>\n",
              "      \n",
              "  <style>\n",
              "    .colab-df-container {\n",
              "      display:flex;\n",
              "      flex-wrap:wrap;\n",
              "      gap: 12px;\n",
              "    }\n",
              "\n",
              "    .colab-df-convert {\n",
              "      background-color: #E8F0FE;\n",
              "      border: none;\n",
              "      border-radius: 50%;\n",
              "      cursor: pointer;\n",
              "      display: none;\n",
              "      fill: #1967D2;\n",
              "      height: 32px;\n",
              "      padding: 0 0 0 0;\n",
              "      width: 32px;\n",
              "    }\n",
              "\n",
              "    .colab-df-convert:hover {\n",
              "      background-color: #E2EBFA;\n",
              "      box-shadow: 0px 1px 2px rgba(60, 64, 67, 0.3), 0px 1px 3px 1px rgba(60, 64, 67, 0.15);\n",
              "      fill: #174EA6;\n",
              "    }\n",
              "\n",
              "    [theme=dark] .colab-df-convert {\n",
              "      background-color: #3B4455;\n",
              "      fill: #D2E3FC;\n",
              "    }\n",
              "\n",
              "    [theme=dark] .colab-df-convert:hover {\n",
              "      background-color: #434B5C;\n",
              "      box-shadow: 0px 1px 3px 1px rgba(0, 0, 0, 0.15);\n",
              "      filter: drop-shadow(0px 1px 2px rgba(0, 0, 0, 0.3));\n",
              "      fill: #FFFFFF;\n",
              "    }\n",
              "  </style>\n",
              "\n",
              "      <script>\n",
              "        const buttonEl =\n",
              "          document.querySelector('#df-27d3dd09-cb02-4a6a-aa07-cf12f52fda1a button.colab-df-convert');\n",
              "        buttonEl.style.display =\n",
              "          google.colab.kernel.accessAllowed ? 'block' : 'none';\n",
              "\n",
              "        async function convertToInteractive(key) {\n",
              "          const element = document.querySelector('#df-27d3dd09-cb02-4a6a-aa07-cf12f52fda1a');\n",
              "          const dataTable =\n",
              "            await google.colab.kernel.invokeFunction('convertToInteractive',\n",
              "                                                     [key], {});\n",
              "          if (!dataTable) return;\n",
              "\n",
              "          const docLinkHtml = 'Like what you see? Visit the ' +\n",
              "            '<a target=\"_blank\" href=https://colab.research.google.com/notebooks/data_table.ipynb>data table notebook</a>'\n",
              "            + ' to learn more about interactive tables.';\n",
              "          element.innerHTML = '';\n",
              "          dataTable['output_type'] = 'display_data';\n",
              "          await google.colab.output.renderOutput(dataTable, element);\n",
              "          const docLink = document.createElement('div');\n",
              "          docLink.innerHTML = docLinkHtml;\n",
              "          element.appendChild(docLink);\n",
              "        }\n",
              "      </script>\n",
              "    </div>\n",
              "  </div>\n",
              "  "
            ]
          },
          "metadata": {},
          "execution_count": 48
        }
      ]
    },
    {
      "cell_type": "code",
      "metadata": {
        "id": "9e86d11f",
        "outputId": "56f17120-6d4a-48cb-cb24-7490e685008e",
        "colab": {
          "base_uri": "https://localhost:8080/",
          "height": 300
        }
      },
      "source": [
        "df.describe()"
      ],
      "id": "9e86d11f",
      "execution_count": 49,
      "outputs": [
        {
          "output_type": "execute_result",
          "data": {
            "text/plain": [
              "        Santa Marta           BQR           CTG\n",
              "count      3.000000      3.000000      2.000000\n",
              "mean   15033.333333  21700.000000  62950.000000\n",
              "std     3636.390151   8072.793816  18738.329701\n",
              "min    12500.000000  12400.000000  49700.000000\n",
              "25%    12950.000000  19100.000000  56325.000000\n",
              "50%    13400.000000  25800.000000  62950.000000\n",
              "75%    16300.000000  26350.000000  69575.000000\n",
              "max    19200.000000  26900.000000  76200.000000"
            ],
            "text/html": [
              "\n",
              "  <div id=\"df-873c29e3-39eb-4aac-aa56-5439f382096a\">\n",
              "    <div class=\"colab-df-container\">\n",
              "      <div>\n",
              "<style scoped>\n",
              "    .dataframe tbody tr th:only-of-type {\n",
              "        vertical-align: middle;\n",
              "    }\n",
              "\n",
              "    .dataframe tbody tr th {\n",
              "        vertical-align: top;\n",
              "    }\n",
              "\n",
              "    .dataframe thead th {\n",
              "        text-align: right;\n",
              "    }\n",
              "</style>\n",
              "<table border=\"1\" class=\"dataframe\">\n",
              "  <thead>\n",
              "    <tr style=\"text-align: right;\">\n",
              "      <th></th>\n",
              "      <th>Santa Marta</th>\n",
              "      <th>BQR</th>\n",
              "      <th>CTG</th>\n",
              "    </tr>\n",
              "  </thead>\n",
              "  <tbody>\n",
              "    <tr>\n",
              "      <th>count</th>\n",
              "      <td>3.000000</td>\n",
              "      <td>3.000000</td>\n",
              "      <td>2.000000</td>\n",
              "    </tr>\n",
              "    <tr>\n",
              "      <th>mean</th>\n",
              "      <td>15033.333333</td>\n",
              "      <td>21700.000000</td>\n",
              "      <td>62950.000000</td>\n",
              "    </tr>\n",
              "    <tr>\n",
              "      <th>std</th>\n",
              "      <td>3636.390151</td>\n",
              "      <td>8072.793816</td>\n",
              "      <td>18738.329701</td>\n",
              "    </tr>\n",
              "    <tr>\n",
              "      <th>min</th>\n",
              "      <td>12500.000000</td>\n",
              "      <td>12400.000000</td>\n",
              "      <td>49700.000000</td>\n",
              "    </tr>\n",
              "    <tr>\n",
              "      <th>25%</th>\n",
              "      <td>12950.000000</td>\n",
              "      <td>19100.000000</td>\n",
              "      <td>56325.000000</td>\n",
              "    </tr>\n",
              "    <tr>\n",
              "      <th>50%</th>\n",
              "      <td>13400.000000</td>\n",
              "      <td>25800.000000</td>\n",
              "      <td>62950.000000</td>\n",
              "    </tr>\n",
              "    <tr>\n",
              "      <th>75%</th>\n",
              "      <td>16300.000000</td>\n",
              "      <td>26350.000000</td>\n",
              "      <td>69575.000000</td>\n",
              "    </tr>\n",
              "    <tr>\n",
              "      <th>max</th>\n",
              "      <td>19200.000000</td>\n",
              "      <td>26900.000000</td>\n",
              "      <td>76200.000000</td>\n",
              "    </tr>\n",
              "  </tbody>\n",
              "</table>\n",
              "</div>\n",
              "      <button class=\"colab-df-convert\" onclick=\"convertToInteractive('df-873c29e3-39eb-4aac-aa56-5439f382096a')\"\n",
              "              title=\"Convert this dataframe to an interactive table.\"\n",
              "              style=\"display:none;\">\n",
              "        \n",
              "  <svg xmlns=\"http://www.w3.org/2000/svg\" height=\"24px\"viewBox=\"0 0 24 24\"\n",
              "       width=\"24px\">\n",
              "    <path d=\"M0 0h24v24H0V0z\" fill=\"none\"/>\n",
              "    <path d=\"M18.56 5.44l.94 2.06.94-2.06 2.06-.94-2.06-.94-.94-2.06-.94 2.06-2.06.94zm-11 1L8.5 8.5l.94-2.06 2.06-.94-2.06-.94L8.5 2.5l-.94 2.06-2.06.94zm10 10l.94 2.06.94-2.06 2.06-.94-2.06-.94-.94-2.06-.94 2.06-2.06.94z\"/><path d=\"M17.41 7.96l-1.37-1.37c-.4-.4-.92-.59-1.43-.59-.52 0-1.04.2-1.43.59L10.3 9.45l-7.72 7.72c-.78.78-.78 2.05 0 2.83L4 21.41c.39.39.9.59 1.41.59.51 0 1.02-.2 1.41-.59l7.78-7.78 2.81-2.81c.8-.78.8-2.07 0-2.86zM5.41 20L4 18.59l7.72-7.72 1.47 1.35L5.41 20z\"/>\n",
              "  </svg>\n",
              "      </button>\n",
              "      \n",
              "  <style>\n",
              "    .colab-df-container {\n",
              "      display:flex;\n",
              "      flex-wrap:wrap;\n",
              "      gap: 12px;\n",
              "    }\n",
              "\n",
              "    .colab-df-convert {\n",
              "      background-color: #E8F0FE;\n",
              "      border: none;\n",
              "      border-radius: 50%;\n",
              "      cursor: pointer;\n",
              "      display: none;\n",
              "      fill: #1967D2;\n",
              "      height: 32px;\n",
              "      padding: 0 0 0 0;\n",
              "      width: 32px;\n",
              "    }\n",
              "\n",
              "    .colab-df-convert:hover {\n",
              "      background-color: #E2EBFA;\n",
              "      box-shadow: 0px 1px 2px rgba(60, 64, 67, 0.3), 0px 1px 3px 1px rgba(60, 64, 67, 0.15);\n",
              "      fill: #174EA6;\n",
              "    }\n",
              "\n",
              "    [theme=dark] .colab-df-convert {\n",
              "      background-color: #3B4455;\n",
              "      fill: #D2E3FC;\n",
              "    }\n",
              "\n",
              "    [theme=dark] .colab-df-convert:hover {\n",
              "      background-color: #434B5C;\n",
              "      box-shadow: 0px 1px 3px 1px rgba(0, 0, 0, 0.15);\n",
              "      filter: drop-shadow(0px 1px 2px rgba(0, 0, 0, 0.3));\n",
              "      fill: #FFFFFF;\n",
              "    }\n",
              "  </style>\n",
              "\n",
              "      <script>\n",
              "        const buttonEl =\n",
              "          document.querySelector('#df-873c29e3-39eb-4aac-aa56-5439f382096a button.colab-df-convert');\n",
              "        buttonEl.style.display =\n",
              "          google.colab.kernel.accessAllowed ? 'block' : 'none';\n",
              "\n",
              "        async function convertToInteractive(key) {\n",
              "          const element = document.querySelector('#df-873c29e3-39eb-4aac-aa56-5439f382096a');\n",
              "          const dataTable =\n",
              "            await google.colab.kernel.invokeFunction('convertToInteractive',\n",
              "                                                     [key], {});\n",
              "          if (!dataTable) return;\n",
              "\n",
              "          const docLinkHtml = 'Like what you see? Visit the ' +\n",
              "            '<a target=\"_blank\" href=https://colab.research.google.com/notebooks/data_table.ipynb>data table notebook</a>'\n",
              "            + ' to learn more about interactive tables.';\n",
              "          element.innerHTML = '';\n",
              "          dataTable['output_type'] = 'display_data';\n",
              "          await google.colab.output.renderOutput(dataTable, element);\n",
              "          const docLink = document.createElement('div');\n",
              "          docLink.innerHTML = docLinkHtml;\n",
              "          element.appendChild(docLink);\n",
              "        }\n",
              "      </script>\n",
              "    </div>\n",
              "  </div>\n",
              "  "
            ]
          },
          "metadata": {},
          "execution_count": 49
        }
      ]
    },
    {
      "cell_type": "markdown",
      "metadata": {
        "id": "d0a68c07"
      },
      "source": [
        "# Visualizacion\n",
        "\n",
        "Usemos mapas, antes que nada muchas veces, nuestro Jupyter no tiene algunos paquetes instalados, es por eso que hay que hacer uso del operador `!pip install` es similar al `install.packages(\"\")` de **R**. Miremos un pequeño ejemplo: "
      ],
      "id": "d0a68c07"
    },
    {
      "cell_type": "code",
      "metadata": {
        "id": "8ae9f7e9",
        "outputId": "521adf5b-a53d-4509-94aa-5e4a891bbfb7",
        "colab": {
          "base_uri": "https://localhost:8080/"
        }
      },
      "source": [
        "!pip install folium\n",
        "import folium"
      ],
      "id": "8ae9f7e9",
      "execution_count": 50,
      "outputs": [
        {
          "output_type": "stream",
          "name": "stdout",
          "text": [
            "Requirement already satisfied: folium in /usr/local/lib/python3.7/dist-packages (0.8.3)\n",
            "Requirement already satisfied: jinja2 in /usr/local/lib/python3.7/dist-packages (from folium) (2.11.3)\n",
            "Requirement already satisfied: six in /usr/local/lib/python3.7/dist-packages (from folium) (1.15.0)\n",
            "Requirement already satisfied: branca>=0.3.0 in /usr/local/lib/python3.7/dist-packages (from folium) (0.5.0)\n",
            "Requirement already satisfied: requests in /usr/local/lib/python3.7/dist-packages (from folium) (2.23.0)\n",
            "Requirement already satisfied: numpy in /usr/local/lib/python3.7/dist-packages (from folium) (1.21.6)\n",
            "Requirement already satisfied: MarkupSafe>=0.23 in /usr/local/lib/python3.7/dist-packages (from jinja2->folium) (2.0.1)\n",
            "Requirement already satisfied: urllib3!=1.25.0,!=1.25.1,<1.26,>=1.21.1 in /usr/local/lib/python3.7/dist-packages (from requests->folium) (1.24.3)\n",
            "Requirement already satisfied: idna<3,>=2.5 in /usr/local/lib/python3.7/dist-packages (from requests->folium) (2.10)\n",
            "Requirement already satisfied: chardet<4,>=3.0.2 in /usr/local/lib/python3.7/dist-packages (from requests->folium) (3.0.4)\n",
            "Requirement already satisfied: certifi>=2017.4.17 in /usr/local/lib/python3.7/dist-packages (from requests->folium) (2021.10.8)\n"
          ]
        }
      ]
    },
    {
      "cell_type": "code",
      "metadata": {
        "id": "7f00a704",
        "colab": {
          "base_uri": "https://localhost:8080/",
          "height": 670
        },
        "outputId": "812761c2-139c-427e-a889-ab29f3a957ee"
      },
      "source": [
        "bq_coords = [10.9878, -74.78] # lat, long\n",
        "folium_map = folium.Map(location=bq_coords)\n",
        "folium_map"
      ],
      "id": "7f00a704",
      "execution_count": 51,
      "outputs": [
        {
          "output_type": "execute_result",
          "data": {
            "text/plain": [
              "<folium.folium.Map at 0x7fed3d9c4b90>"
            ],
            "text/html": [
              "<div style=\"width:100%;\"><div style=\"position:relative;width:100%;height:0;padding-bottom:60%;\"><span style=\"color:#565656\">Make this Notebook Trusted to load map: File -> Trust Notebook</span><iframe srcdoc=\"&lt;!DOCTYPE html&gt;\n",
              "&lt;head&gt;    \n",
              "    &lt;meta http-equiv=&quot;content-type&quot; content=&quot;text/html; charset=UTF-8&quot; /&gt;\n",
              "    &lt;script&gt;L_PREFER_CANVAS=false; L_NO_TOUCH=false; L_DISABLE_3D=false;&lt;/script&gt;\n",
              "    &lt;script src=&quot;https://cdn.jsdelivr.net/npm/leaflet@1.4.0/dist/leaflet.js&quot;&gt;&lt;/script&gt;\n",
              "    &lt;script src=&quot;https://code.jquery.com/jquery-1.12.4.min.js&quot;&gt;&lt;/script&gt;\n",
              "    &lt;script src=&quot;https://maxcdn.bootstrapcdn.com/bootstrap/3.2.0/js/bootstrap.min.js&quot;&gt;&lt;/script&gt;\n",
              "    &lt;script src=&quot;https://cdnjs.cloudflare.com/ajax/libs/Leaflet.awesome-markers/2.0.2/leaflet.awesome-markers.js&quot;&gt;&lt;/script&gt;\n",
              "    &lt;link rel=&quot;stylesheet&quot; href=&quot;https://cdn.jsdelivr.net/npm/leaflet@1.4.0/dist/leaflet.css&quot;/&gt;\n",
              "    &lt;link rel=&quot;stylesheet&quot; href=&quot;https://maxcdn.bootstrapcdn.com/bootstrap/3.2.0/css/bootstrap.min.css&quot;/&gt;\n",
              "    &lt;link rel=&quot;stylesheet&quot; href=&quot;https://maxcdn.bootstrapcdn.com/bootstrap/3.2.0/css/bootstrap-theme.min.css&quot;/&gt;\n",
              "    &lt;link rel=&quot;stylesheet&quot; href=&quot;https://maxcdn.bootstrapcdn.com/font-awesome/4.6.3/css/font-awesome.min.css&quot;/&gt;\n",
              "    &lt;link rel=&quot;stylesheet&quot; href=&quot;https://cdnjs.cloudflare.com/ajax/libs/Leaflet.awesome-markers/2.0.2/leaflet.awesome-markers.css&quot;/&gt;\n",
              "    &lt;link rel=&quot;stylesheet&quot; href=&quot;https://rawcdn.githack.com/python-visualization/folium/master/folium/templates/leaflet.awesome.rotate.css&quot;/&gt;\n",
              "    &lt;style&gt;html, body {width: 100%;height: 100%;margin: 0;padding: 0;}&lt;/style&gt;\n",
              "    &lt;style&gt;#map {position:absolute;top:0;bottom:0;right:0;left:0;}&lt;/style&gt;\n",
              "    \n",
              "    &lt;meta name=&quot;viewport&quot; content=&quot;width=device-width,\n",
              "        initial-scale=1.0, maximum-scale=1.0, user-scalable=no&quot; /&gt;\n",
              "    &lt;style&gt;#map_96fb3134ab06d252c7880203d882341e {\n",
              "        position: relative;\n",
              "        width: 100.0%;\n",
              "        height: 100.0%;\n",
              "        left: 0.0%;\n",
              "        top: 0.0%;\n",
              "        }\n",
              "    &lt;/style&gt;\n",
              "&lt;/head&gt;\n",
              "&lt;body&gt;    \n",
              "    \n",
              "    &lt;div class=&quot;folium-map&quot; id=&quot;map_96fb3134ab06d252c7880203d882341e&quot; &gt;&lt;/div&gt;\n",
              "&lt;/body&gt;\n",
              "&lt;script&gt;    \n",
              "    \n",
              "    \n",
              "        var bounds = null;\n",
              "    \n",
              "\n",
              "    var map_96fb3134ab06d252c7880203d882341e = L.map(\n",
              "        &#x27;map_96fb3134ab06d252c7880203d882341e&#x27;, {\n",
              "        center: [10.9878, -74.78],\n",
              "        zoom: 10,\n",
              "        maxBounds: bounds,\n",
              "        layers: [],\n",
              "        worldCopyJump: false,\n",
              "        crs: L.CRS.EPSG3857,\n",
              "        zoomControl: true,\n",
              "        });\n",
              "\n",
              "\n",
              "    \n",
              "    var tile_layer_3a365c08b8278a4e26cc31750f52f967 = L.tileLayer(\n",
              "        &#x27;https://{s}.tile.openstreetmap.org/{z}/{x}/{y}.png&#x27;,\n",
              "        {\n",
              "        &quot;attribution&quot;: null,\n",
              "        &quot;detectRetina&quot;: false,\n",
              "        &quot;maxNativeZoom&quot;: 18,\n",
              "        &quot;maxZoom&quot;: 18,\n",
              "        &quot;minZoom&quot;: 0,\n",
              "        &quot;noWrap&quot;: false,\n",
              "        &quot;opacity&quot;: 1,\n",
              "        &quot;subdomains&quot;: &quot;abc&quot;,\n",
              "        &quot;tms&quot;: false\n",
              "}).addTo(map_96fb3134ab06d252c7880203d882341e);\n",
              "&lt;/script&gt;\" style=\"position:absolute;width:100%;height:100%;left:0;top:0;border:none !important;\" allowfullscreen webkitallowfullscreen mozallowfullscreen></iframe></div></div>"
            ]
          },
          "metadata": {},
          "execution_count": 51
        }
      ]
    },
    {
      "cell_type": "markdown",
      "source": [
        "# Econometría"
      ],
      "metadata": {
        "id": "IzHTd-QLRp48"
      },
      "id": "IzHTd-QLRp48"
    },
    {
      "cell_type": "markdown",
      "source": [
        "En esta parte miraremos como estimar un par de cosas que hacemos conmunmente en **RStudio** Aprenderemos a subir una base de datos al entorno y luego ejecutaremos directamente (No manualmente) una regresión en Python."
      ],
      "metadata": {
        "id": "_lrA32Z0Ru84"
      },
      "id": "_lrA32Z0Ru84"
    },
    {
      "cell_type": "code",
      "source": [
        "# Cargamos la base de datos\n",
        "\n",
        "import pandas as pd\n",
        "\n",
        "df = pd.read_excel (r'/content/Salarios.xlsx')\n",
        "print (df)"
      ],
      "metadata": {
        "colab": {
          "base_uri": "https://localhost:8080/"
        },
        "id": "iBBaE-8qRt1l",
        "outputId": "917c5d52-be2a-470c-f774-972e9cc7619c"
      },
      "id": "iBBaE-8qRt1l",
      "execution_count": 52,
      "outputs": [
        {
          "output_type": "stream",
          "name": "stdout",
          "text": [
            "     wage  hours   IQ  KWW  educ  exper  tenure  age  married  black  south  \\\n",
            "0     769     40   93   35    12     11       2   31        1      0      0   \n",
            "1     808     50  119   41    18     11      16   37        1      0      0   \n",
            "2     825     40  108   46    14     11       9   33        1      0      0   \n",
            "3     650     40   96   32    12     13       7   32        1      0      0   \n",
            "4     562     40   74   27    11     14       5   34        1      0      0   \n",
            "..    ...    ...  ...  ...   ...    ...     ...  ...      ...    ...    ...   \n",
            "930   520     40   79   28    16      6       1   30        1      1      1   \n",
            "931  1202     40  102   32    13     10       3   31        1      0      1   \n",
            "932   538     45   77   22    12     12      10   28        1      1      1   \n",
            "933   873     44  109   25    12     12      12   28        1      0      1   \n",
            "934  1000     40  107   32    12     17      18   35        1      0      1   \n",
            "\n",
            "     urban  sibs  brthord  meduc  feduc         Jh  \n",
            "0        1     1      2.0    8.0    8.0  44.157234  \n",
            "1        1     1      NaN   14.0   14.0  44.817160  \n",
            "2        1     1      2.0   14.0   14.0  45.096382  \n",
            "3        1     4      3.0   12.0   12.0  41.951179  \n",
            "4        1    10      6.0    6.0   11.0  40.087918  \n",
            "..     ...   ...      ...    ...    ...        ...  \n",
            "930      0     0      1.0   11.0    NaN  39.110377  \n",
            "931      1     7      7.0    8.0    6.0  50.292805  \n",
            "932      0     9      NaN    7.0    NaN  39.537158  \n",
            "933      0     1      1.0    NaN   11.0  45.859104  \n",
            "934      0     5      1.0    NaN    NaN  47.717079  \n",
            "\n",
            "[935 rows x 17 columns]\n"
          ]
        }
      ]
    },
    {
      "cell_type": "code",
      "source": [
        "df.columns # Para mirar las columnas sus nombres"
      ],
      "metadata": {
        "colab": {
          "base_uri": "https://localhost:8080/"
        },
        "id": "5LcL9s3rUwar",
        "outputId": "9efcd1ab-74d0-43ad-95a3-f1e8141be6f8"
      },
      "id": "5LcL9s3rUwar",
      "execution_count": 53,
      "outputs": [
        {
          "output_type": "execute_result",
          "data": {
            "text/plain": [
              "Index(['wage', 'hours', 'IQ', 'KWW', 'educ', 'exper', 'tenure', 'age',\n",
              "       'married', 'black', 'south', 'urban', 'sibs', 'brthord', 'meduc',\n",
              "       'feduc', 'Jh'],\n",
              "      dtype='object')"
            ]
          },
          "metadata": {},
          "execution_count": 53
        }
      ]
    },
    {
      "cell_type": "code",
      "source": [
        "df.describe()"
      ],
      "metadata": {
        "colab": {
          "base_uri": "https://localhost:8080/",
          "height": 364
        },
        "id": "EG0aWfioVwFG",
        "outputId": "543d420a-0120-4508-d1b7-af57cf1d1a93"
      },
      "id": "EG0aWfioVwFG",
      "execution_count": 54,
      "outputs": [
        {
          "output_type": "execute_result",
          "data": {
            "text/plain": [
              "              wage       hours          IQ         KWW        educ  \\\n",
              "count   935.000000  935.000000  935.000000  935.000000  935.000000   \n",
              "mean    957.945455   43.929412  101.282353   35.744385   13.468449   \n",
              "std     404.360822    7.224256   15.052636    7.638788    2.196654   \n",
              "min     115.000000   20.000000   50.000000   12.000000    9.000000   \n",
              "25%     669.000000   40.000000   92.000000   31.000000   12.000000   \n",
              "50%     905.000000   40.000000  102.000000   37.000000   12.000000   \n",
              "75%    1160.000000   48.000000  112.000000   41.000000   16.000000   \n",
              "max    3078.000000   80.000000  145.000000   56.000000   18.000000   \n",
              "\n",
              "            exper      tenure         age     married       black       south  \\\n",
              "count  935.000000  935.000000  935.000000  935.000000  935.000000  935.000000   \n",
              "mean    11.563636    7.234225   33.080214    0.893048    0.128342    0.341176   \n",
              "std      4.374586    5.075206    3.107803    0.309217    0.334650    0.474358   \n",
              "min      1.000000    0.000000   28.000000    0.000000    0.000000    0.000000   \n",
              "25%      8.000000    3.000000   30.000000    1.000000    0.000000    0.000000   \n",
              "50%     11.000000    7.000000   33.000000    1.000000    0.000000    0.000000   \n",
              "75%     15.000000   11.000000   36.000000    1.000000    0.000000    1.000000   \n",
              "max     23.000000   22.000000   38.000000    1.000000    1.000000    1.000000   \n",
              "\n",
              "            urban        sibs     brthord       meduc       feduc          Jh  \n",
              "count  935.000000  935.000000  852.000000  857.000000  741.000000  935.000000  \n",
              "mean     0.717647    2.941176    2.276995   10.682614   10.217274   46.132065  \n",
              "std      0.450385    2.306254    1.595613    2.849756    3.300700    5.668650  \n",
              "min      0.000000    0.000000    1.000000    0.000000    0.000000   22.514380  \n",
              "25%      0.000000    1.000000    1.000000    8.000000    8.000000   42.325208  \n",
              "50%      1.000000    2.000000    2.000000   12.000000   10.000000   46.347979  \n",
              "75%      1.000000    4.000000    3.000000   12.000000   12.000000   49.789606  \n",
              "max      1.000000   14.000000   10.000000   18.000000   18.000000   64.513586  "
            ],
            "text/html": [
              "\n",
              "  <div id=\"df-7ae5c056-ab42-459e-a767-08d7a7d81c57\">\n",
              "    <div class=\"colab-df-container\">\n",
              "      <div>\n",
              "<style scoped>\n",
              "    .dataframe tbody tr th:only-of-type {\n",
              "        vertical-align: middle;\n",
              "    }\n",
              "\n",
              "    .dataframe tbody tr th {\n",
              "        vertical-align: top;\n",
              "    }\n",
              "\n",
              "    .dataframe thead th {\n",
              "        text-align: right;\n",
              "    }\n",
              "</style>\n",
              "<table border=\"1\" class=\"dataframe\">\n",
              "  <thead>\n",
              "    <tr style=\"text-align: right;\">\n",
              "      <th></th>\n",
              "      <th>wage</th>\n",
              "      <th>hours</th>\n",
              "      <th>IQ</th>\n",
              "      <th>KWW</th>\n",
              "      <th>educ</th>\n",
              "      <th>exper</th>\n",
              "      <th>tenure</th>\n",
              "      <th>age</th>\n",
              "      <th>married</th>\n",
              "      <th>black</th>\n",
              "      <th>south</th>\n",
              "      <th>urban</th>\n",
              "      <th>sibs</th>\n",
              "      <th>brthord</th>\n",
              "      <th>meduc</th>\n",
              "      <th>feduc</th>\n",
              "      <th>Jh</th>\n",
              "    </tr>\n",
              "  </thead>\n",
              "  <tbody>\n",
              "    <tr>\n",
              "      <th>count</th>\n",
              "      <td>935.000000</td>\n",
              "      <td>935.000000</td>\n",
              "      <td>935.000000</td>\n",
              "      <td>935.000000</td>\n",
              "      <td>935.000000</td>\n",
              "      <td>935.000000</td>\n",
              "      <td>935.000000</td>\n",
              "      <td>935.000000</td>\n",
              "      <td>935.000000</td>\n",
              "      <td>935.000000</td>\n",
              "      <td>935.000000</td>\n",
              "      <td>935.000000</td>\n",
              "      <td>935.000000</td>\n",
              "      <td>852.000000</td>\n",
              "      <td>857.000000</td>\n",
              "      <td>741.000000</td>\n",
              "      <td>935.000000</td>\n",
              "    </tr>\n",
              "    <tr>\n",
              "      <th>mean</th>\n",
              "      <td>957.945455</td>\n",
              "      <td>43.929412</td>\n",
              "      <td>101.282353</td>\n",
              "      <td>35.744385</td>\n",
              "      <td>13.468449</td>\n",
              "      <td>11.563636</td>\n",
              "      <td>7.234225</td>\n",
              "      <td>33.080214</td>\n",
              "      <td>0.893048</td>\n",
              "      <td>0.128342</td>\n",
              "      <td>0.341176</td>\n",
              "      <td>0.717647</td>\n",
              "      <td>2.941176</td>\n",
              "      <td>2.276995</td>\n",
              "      <td>10.682614</td>\n",
              "      <td>10.217274</td>\n",
              "      <td>46.132065</td>\n",
              "    </tr>\n",
              "    <tr>\n",
              "      <th>std</th>\n",
              "      <td>404.360822</td>\n",
              "      <td>7.224256</td>\n",
              "      <td>15.052636</td>\n",
              "      <td>7.638788</td>\n",
              "      <td>2.196654</td>\n",
              "      <td>4.374586</td>\n",
              "      <td>5.075206</td>\n",
              "      <td>3.107803</td>\n",
              "      <td>0.309217</td>\n",
              "      <td>0.334650</td>\n",
              "      <td>0.474358</td>\n",
              "      <td>0.450385</td>\n",
              "      <td>2.306254</td>\n",
              "      <td>1.595613</td>\n",
              "      <td>2.849756</td>\n",
              "      <td>3.300700</td>\n",
              "      <td>5.668650</td>\n",
              "    </tr>\n",
              "    <tr>\n",
              "      <th>min</th>\n",
              "      <td>115.000000</td>\n",
              "      <td>20.000000</td>\n",
              "      <td>50.000000</td>\n",
              "      <td>12.000000</td>\n",
              "      <td>9.000000</td>\n",
              "      <td>1.000000</td>\n",
              "      <td>0.000000</td>\n",
              "      <td>28.000000</td>\n",
              "      <td>0.000000</td>\n",
              "      <td>0.000000</td>\n",
              "      <td>0.000000</td>\n",
              "      <td>0.000000</td>\n",
              "      <td>0.000000</td>\n",
              "      <td>1.000000</td>\n",
              "      <td>0.000000</td>\n",
              "      <td>0.000000</td>\n",
              "      <td>22.514380</td>\n",
              "    </tr>\n",
              "    <tr>\n",
              "      <th>25%</th>\n",
              "      <td>669.000000</td>\n",
              "      <td>40.000000</td>\n",
              "      <td>92.000000</td>\n",
              "      <td>31.000000</td>\n",
              "      <td>12.000000</td>\n",
              "      <td>8.000000</td>\n",
              "      <td>3.000000</td>\n",
              "      <td>30.000000</td>\n",
              "      <td>1.000000</td>\n",
              "      <td>0.000000</td>\n",
              "      <td>0.000000</td>\n",
              "      <td>0.000000</td>\n",
              "      <td>1.000000</td>\n",
              "      <td>1.000000</td>\n",
              "      <td>8.000000</td>\n",
              "      <td>8.000000</td>\n",
              "      <td>42.325208</td>\n",
              "    </tr>\n",
              "    <tr>\n",
              "      <th>50%</th>\n",
              "      <td>905.000000</td>\n",
              "      <td>40.000000</td>\n",
              "      <td>102.000000</td>\n",
              "      <td>37.000000</td>\n",
              "      <td>12.000000</td>\n",
              "      <td>11.000000</td>\n",
              "      <td>7.000000</td>\n",
              "      <td>33.000000</td>\n",
              "      <td>1.000000</td>\n",
              "      <td>0.000000</td>\n",
              "      <td>0.000000</td>\n",
              "      <td>1.000000</td>\n",
              "      <td>2.000000</td>\n",
              "      <td>2.000000</td>\n",
              "      <td>12.000000</td>\n",
              "      <td>10.000000</td>\n",
              "      <td>46.347979</td>\n",
              "    </tr>\n",
              "    <tr>\n",
              "      <th>75%</th>\n",
              "      <td>1160.000000</td>\n",
              "      <td>48.000000</td>\n",
              "      <td>112.000000</td>\n",
              "      <td>41.000000</td>\n",
              "      <td>16.000000</td>\n",
              "      <td>15.000000</td>\n",
              "      <td>11.000000</td>\n",
              "      <td>36.000000</td>\n",
              "      <td>1.000000</td>\n",
              "      <td>0.000000</td>\n",
              "      <td>1.000000</td>\n",
              "      <td>1.000000</td>\n",
              "      <td>4.000000</td>\n",
              "      <td>3.000000</td>\n",
              "      <td>12.000000</td>\n",
              "      <td>12.000000</td>\n",
              "      <td>49.789606</td>\n",
              "    </tr>\n",
              "    <tr>\n",
              "      <th>max</th>\n",
              "      <td>3078.000000</td>\n",
              "      <td>80.000000</td>\n",
              "      <td>145.000000</td>\n",
              "      <td>56.000000</td>\n",
              "      <td>18.000000</td>\n",
              "      <td>23.000000</td>\n",
              "      <td>22.000000</td>\n",
              "      <td>38.000000</td>\n",
              "      <td>1.000000</td>\n",
              "      <td>1.000000</td>\n",
              "      <td>1.000000</td>\n",
              "      <td>1.000000</td>\n",
              "      <td>14.000000</td>\n",
              "      <td>10.000000</td>\n",
              "      <td>18.000000</td>\n",
              "      <td>18.000000</td>\n",
              "      <td>64.513586</td>\n",
              "    </tr>\n",
              "  </tbody>\n",
              "</table>\n",
              "</div>\n",
              "      <button class=\"colab-df-convert\" onclick=\"convertToInteractive('df-7ae5c056-ab42-459e-a767-08d7a7d81c57')\"\n",
              "              title=\"Convert this dataframe to an interactive table.\"\n",
              "              style=\"display:none;\">\n",
              "        \n",
              "  <svg xmlns=\"http://www.w3.org/2000/svg\" height=\"24px\"viewBox=\"0 0 24 24\"\n",
              "       width=\"24px\">\n",
              "    <path d=\"M0 0h24v24H0V0z\" fill=\"none\"/>\n",
              "    <path d=\"M18.56 5.44l.94 2.06.94-2.06 2.06-.94-2.06-.94-.94-2.06-.94 2.06-2.06.94zm-11 1L8.5 8.5l.94-2.06 2.06-.94-2.06-.94L8.5 2.5l-.94 2.06-2.06.94zm10 10l.94 2.06.94-2.06 2.06-.94-2.06-.94-.94-2.06-.94 2.06-2.06.94z\"/><path d=\"M17.41 7.96l-1.37-1.37c-.4-.4-.92-.59-1.43-.59-.52 0-1.04.2-1.43.59L10.3 9.45l-7.72 7.72c-.78.78-.78 2.05 0 2.83L4 21.41c.39.39.9.59 1.41.59.51 0 1.02-.2 1.41-.59l7.78-7.78 2.81-2.81c.8-.78.8-2.07 0-2.86zM5.41 20L4 18.59l7.72-7.72 1.47 1.35L5.41 20z\"/>\n",
              "  </svg>\n",
              "      </button>\n",
              "      \n",
              "  <style>\n",
              "    .colab-df-container {\n",
              "      display:flex;\n",
              "      flex-wrap:wrap;\n",
              "      gap: 12px;\n",
              "    }\n",
              "\n",
              "    .colab-df-convert {\n",
              "      background-color: #E8F0FE;\n",
              "      border: none;\n",
              "      border-radius: 50%;\n",
              "      cursor: pointer;\n",
              "      display: none;\n",
              "      fill: #1967D2;\n",
              "      height: 32px;\n",
              "      padding: 0 0 0 0;\n",
              "      width: 32px;\n",
              "    }\n",
              "\n",
              "    .colab-df-convert:hover {\n",
              "      background-color: #E2EBFA;\n",
              "      box-shadow: 0px 1px 2px rgba(60, 64, 67, 0.3), 0px 1px 3px 1px rgba(60, 64, 67, 0.15);\n",
              "      fill: #174EA6;\n",
              "    }\n",
              "\n",
              "    [theme=dark] .colab-df-convert {\n",
              "      background-color: #3B4455;\n",
              "      fill: #D2E3FC;\n",
              "    }\n",
              "\n",
              "    [theme=dark] .colab-df-convert:hover {\n",
              "      background-color: #434B5C;\n",
              "      box-shadow: 0px 1px 3px 1px rgba(0, 0, 0, 0.15);\n",
              "      filter: drop-shadow(0px 1px 2px rgba(0, 0, 0, 0.3));\n",
              "      fill: #FFFFFF;\n",
              "    }\n",
              "  </style>\n",
              "\n",
              "      <script>\n",
              "        const buttonEl =\n",
              "          document.querySelector('#df-7ae5c056-ab42-459e-a767-08d7a7d81c57 button.colab-df-convert');\n",
              "        buttonEl.style.display =\n",
              "          google.colab.kernel.accessAllowed ? 'block' : 'none';\n",
              "\n",
              "        async function convertToInteractive(key) {\n",
              "          const element = document.querySelector('#df-7ae5c056-ab42-459e-a767-08d7a7d81c57');\n",
              "          const dataTable =\n",
              "            await google.colab.kernel.invokeFunction('convertToInteractive',\n",
              "                                                     [key], {});\n",
              "          if (!dataTable) return;\n",
              "\n",
              "          const docLinkHtml = 'Like what you see? Visit the ' +\n",
              "            '<a target=\"_blank\" href=https://colab.research.google.com/notebooks/data_table.ipynb>data table notebook</a>'\n",
              "            + ' to learn more about interactive tables.';\n",
              "          element.innerHTML = '';\n",
              "          dataTable['output_type'] = 'display_data';\n",
              "          await google.colab.output.renderOutput(dataTable, element);\n",
              "          const docLink = document.createElement('div');\n",
              "          docLink.innerHTML = docLinkHtml;\n",
              "          element.appendChild(docLink);\n",
              "        }\n",
              "      </script>\n",
              "    </div>\n",
              "  </div>\n",
              "  "
            ]
          },
          "metadata": {},
          "execution_count": 54
        }
      ]
    },
    {
      "cell_type": "markdown",
      "source": [
        "Vamos ahora a continuación a crear un modelo de regresión multiple en python. Para eso usaremos a **pandas** para realizar nuestros respectivos calculos"
      ],
      "metadata": {
        "id": "nzbYmOrmWOgG"
      },
      "id": "nzbYmOrmWOgG"
    },
    {
      "cell_type": "code",
      "source": [
        "import pandas as pd\n",
        "import statsmodels.formula.api as smf\n",
        "\n",
        "# Regresión:\n",
        "reg = smf.ols(formula='wage ~ hours + educ+ tenure + married', data=df)\n",
        "results = reg.fit()\n",
        "\n",
        "# Resumen de la salida\n",
        "print(f'results.summary(): \\n{results.summary()}\\n')\n",
        "\n",
        "# print regression table:\n",
        "tabla = pd.DataFrame({'b': round(results.params, 4),\n",
        "                      'se': round(results.bse, 4),\n",
        "                      't': round(results.tvalues, 4),\n",
        "                      'pval': round(results.pvalues, 4)})\n",
        "print(f'tabla del modelo: \\n{tabla}\\n')"
      ],
      "metadata": {
        "colab": {
          "base_uri": "https://localhost:8080/"
        },
        "id": "4s21VlnuV-ST",
        "outputId": "c6cc2dca-cc8b-49ae-83ab-b2d631ecca11"
      },
      "id": "4s21VlnuV-ST",
      "execution_count": 55,
      "outputs": [
        {
          "output_type": "stream",
          "name": "stderr",
          "text": [
            "/usr/local/lib/python3.7/dist-packages/statsmodels/tools/_testing.py:19: FutureWarning: pandas.util.testing is deprecated. Use the functions in the public API at pandas.testing instead.\n",
            "  import pandas.util.testing as tm\n"
          ]
        },
        {
          "output_type": "stream",
          "name": "stdout",
          "text": [
            "results.summary(): \n",
            "                            OLS Regression Results                            \n",
            "==============================================================================\n",
            "Dep. Variable:                   wage   R-squared:                       0.150\n",
            "Model:                            OLS   Adj. R-squared:                  0.146\n",
            "Method:                 Least Squares   F-statistic:                     40.89\n",
            "Date:                Tue, 26 Apr 2022   Prob (F-statistic):           1.35e-31\n",
            "Time:                        15:00:28   Log-Likelihood:                -6862.6\n",
            "No. Observations:                 935   AIC:                         1.374e+04\n",
            "Df Residuals:                     930   BIC:                         1.376e+04\n",
            "Df Model:                           4                                         \n",
            "Covariance Type:            nonrobust                                         \n",
            "==============================================================================\n",
            "                 coef    std err          t      P>|t|      [0.025      0.975]\n",
            "------------------------------------------------------------------------------\n",
            "Intercept    -47.3019    110.448     -0.428      0.669    -264.058     169.454\n",
            "hours         -2.1580      1.703     -1.267      0.206      -5.501       1.185\n",
            "educ          63.3140      5.602     11.301      0.000      52.319      74.309\n",
            "tenure        10.1798      2.421      4.205      0.000       5.429      14.930\n",
            "married      194.4603     39.746      4.893      0.000     116.457     272.463\n",
            "==============================================================================\n",
            "Omnibus:                      239.378   Durbin-Watson:                   1.771\n",
            "Prob(Omnibus):                  0.000   Jarque-Bera (JB):              744.998\n",
            "Skew:                           1.247   Prob(JB):                    1.68e-162\n",
            "Kurtosis:                       6.593   Cond. No.                         429.\n",
            "==============================================================================\n",
            "\n",
            "Warnings:\n",
            "[1] Standard Errors assume that the covariance matrix of the errors is correctly specified.\n",
            "\n",
            "tabla del modelo: \n",
            "                  b        se        t    pval\n",
            "Intercept  -47.3019  110.4480  -0.4283  0.6686\n",
            "hours       -2.1580    1.7035  -1.2668  0.2055\n",
            "educ        63.3140    5.6024  11.3011  0.0000\n",
            "tenure      10.1798    2.4206   4.2054  0.0000\n",
            "married    194.4603   39.7464   4.8925  0.0000\n",
            "\n"
          ]
        }
      ]
    },
    {
      "cell_type": "markdown",
      "metadata": {
        "id": "d821e3a7"
      },
      "source": [
        "# Agradecimientos\n",
        "\n",
        "Al equipo de **Kribe en Datos** a **Correlation one** y al Ministerios de la información y telecomunicaciones del Gobierno Nacional."
      ],
      "id": "d821e3a7"
    }
  ]
}