{
  "nbformat": 4,
  "nbformat_minor": 0,
  "metadata": {
    "colab": {
      "name": "Visualizacion Python.ipynb",
      "provenance": [],
      "authorship_tag": "ABX9TyMK9FMwOKOAIzSd6LeXMyGF",
      "include_colab_link": true
    },
    "kernelspec": {
      "name": "python3",
      "display_name": "Python 3"
    },
    "language_info": {
      "name": "python"
    }
  },
  "cells": [
    {
      "cell_type": "markdown",
      "metadata": {
        "id": "view-in-github",
        "colab_type": "text"
      },
      "source": [
        "<a href=\"https://colab.research.google.com/github/keynes37/GuideEconometria/blob/main/Visualizacion_Python.ipynb\" target=\"_parent\"><img src=\"https://colab.research.google.com/assets/colab-badge.svg\" alt=\"Open In Colab\"/></a>"
      ]
    },
    {
      "cell_type": "code",
      "metadata": {
        "id": "MuD2ndu4uYJ1"
      },
      "source": [
        ""
      ],
      "execution_count": null,
      "outputs": []
    },
    {
      "cell_type": "markdown",
      "source": [
        "# Universidad del Norte\n",
        "## K-ribe en Datos (viernes de código)\n",
        "### Carlos Andrés Yanes Guerra\n",
        "\n",
        "El día de hoy trabajaremos una de las tantas maneras de visualizar datos en **Python**. Los paquetes que regularmente se usan para este tipo de trabajos, va desde la tradicional [Mathplot](https://matplotlib.org/); como tambien [Seaborn](https://seaborn.pydata.org/); entre otros paquetes (library) denominados <font color='red'>Numpy, Plotly</font>.\n",
        "\n",
        "Hoy realizamos una pequeña aproximación a gráficos en economía que regularmente se complementan con el análisis estadístico. Usando una base de datos, que permite hacer un par de comparaciones.\n",
        "\n",
        "El sondeo de opinión es meramente educativo. No ha medido completamente la intención o gasto de tiempo en ocio en plataformas de entretenimiento.\n"
      ],
      "metadata": {
        "id": "KStA4c5KfRu6"
      }
    },
    {
      "cell_type": "markdown",
      "source": [
        "## Inicios\n",
        "\n",
        "Antes que nada, entendamos un paquete. Se llama `Mathplotlib` con el podemos hacer graficos basicos, pero ilustrará de cierta manera las cosas. Observemos:\n",
        "\n",
        "```p\n",
        "import matplotlib.pyplot as plt \n",
        "```"
      ],
      "metadata": {
        "id": "-WZgNbdsmqof"
      }
    },
    {
      "cell_type": "code",
      "metadata": {
        "id": "IQScc9JVulZo"
      },
      "source": [
        "import matplotlib.pyplot as plt\n",
        "X=[2019,2020,2021,2022]\n",
        "Y=[19,33,44,62]\n",
        "plt.plot(X,Y)\n",
        "plt.show"
      ],
      "execution_count": null,
      "outputs": []
    },
    {
      "cell_type": "markdown",
      "source": [
        "Las graficas se les puede ir añadiendo titulos y otras opciones mas como colores. Entre otros elementos"
      ],
      "metadata": {
        "id": "VXpZ0KaDoSFc"
      }
    },
    {
      "cell_type": "markdown",
      "source": [
        "## Análisis Gráfico \n",
        "Tenemos entonces unos datos.  Inspecciones a ver que tipo de info nos brinda."
      ],
      "metadata": {
        "id": "eFfXzjhkobvH"
      }
    },
    {
      "cell_type": "code",
      "source": [
        "import pandas as pd\n",
        "\n",
        "datos=pd.read_excel('/content/basevcode.xlsx')\n",
        "datos"
      ],
      "metadata": {
        "id": "_Odb2FyzolSf"
      },
      "execution_count": null,
      "outputs": []
    },
    {
      "cell_type": "markdown",
      "source": [
        "Grafiquemos las variables cuantitativas. Miremos como está distribuido el gasto en ocio de este grupo de personas."
      ],
      "metadata": {
        "id": "nSUy40S1pP3K"
      }
    },
    {
      "cell_type": "code",
      "source": [
        "plt.plot(datos.Gasto_Ocio)\n",
        "plt.show"
      ],
      "metadata": {
        "id": "rmqb1sZfpYBn"
      },
      "execution_count": null,
      "outputs": []
    },
    {
      "cell_type": "markdown",
      "source": [
        "Algo no tan diciente, primero porque simplemente no es una serie de tiempo como tal. Mas bien es un dato que requiere de elementos adicionales, para realizar una mejor interpretación. Para eso entonces empecemos a combinar con otras variables y a mirar otro tipo de gráficos."
      ],
      "metadata": {
        "id": "y7qh6MHrpqls"
      }
    },
    {
      "cell_type": "code",
      "source": [
        "# Miramos un histograma\n",
        "\n",
        "plt.hist(datos.Gasto_Ocio, bins = 10)\n",
        "plt.show()"
      ],
      "metadata": {
        "id": "EVwNVtS9qBxy"
      },
      "execution_count": null,
      "outputs": []
    },
    {
      "cell_type": "markdown",
      "source": [
        "¿Quién lo interpreta?"
      ],
      "metadata": {
        "id": "qMCMepGPsEBV"
      }
    },
    {
      "cell_type": "markdown",
      "source": [
        "## Intentemos con seaborn\n",
        "\n",
        "Hay otras opciones gráficas con modulos mas completos. Observe lo siguiente:"
      ],
      "metadata": {
        "id": "-JgDuUy6sMsq"
      }
    },
    {
      "cell_type": "code",
      "source": [
        "import seaborn as sns\n",
        "sns.boxplot(x=\"Genero\", y=\"Gasto_Ocio\",\n",
        "            hue=\"Suscripcion\", palette=[\"m\", \"g\"],\n",
        "            data=datos)\n",
        "sns.despine(offset=10, trim=True)"
      ],
      "metadata": {
        "id": "f5W8HErOsuI0"
      },
      "execution_count": null,
      "outputs": []
    },
    {
      "cell_type": "markdown",
      "source": [
        "Miremos otro ejemplo pero cambiando opciones e intentando interpretar algunos elementos atractivos de esta parte"
      ],
      "metadata": {
        "id": "UCraAph4ufRn"
      }
    },
    {
      "cell_type": "code",
      "source": [
        "sns.boxplot(x=\"Suscripcion\", y=\"Gasto_Ocio\",\n",
        "            hue=\"Genero\", palette=[\"m\", \"g\", \"r\", \"b\"],\n",
        "            data=datos)\n",
        "sns.despine(offset=10, trim=True)"
      ],
      "metadata": {
        "id": "zb5zsfpVudHG"
      },
      "execution_count": null,
      "outputs": []
    },
    {
      "cell_type": "markdown",
      "source": [
        "Miremos a continuación otro ejemplo pero con mejor estructura en el histograma y comparando por genero."
      ],
      "metadata": {
        "id": "Na8zAEOivH7R"
      }
    },
    {
      "cell_type": "code",
      "source": [
        "sns.displot(data=datos, x=\"Horas\", col=\"dia\", kde=True)"
      ],
      "metadata": {
        "id": "31gN9g-9vRjO"
      },
      "execution_count": null,
      "outputs": []
    },
    {
      "cell_type": "markdown",
      "source": [
        "# Combinando Paquetes\n",
        "\n",
        "A continuación vamos a mirar como funciona la combinación de paquetes para por ejemplo mirar un gráfico de tortas"
      ],
      "metadata": {
        "id": "KiXfXaQCwILW"
      }
    },
    {
      "cell_type": "code",
      "source": [
        "# Vamos a definir el paquete de colores\n",
        "colores = sns.color_palette('pastel')[0:5]\n",
        "\n",
        "#crear pie chart\n",
        "\n",
        "x=datos.Horas\n",
        "y=datos.Suscripcion\n",
        "\n",
        "\n",
        "plt.pie(x, labels = y, colors = colores, autopct='%.0f%%')\n",
        "plt.show()"
      ],
      "metadata": {
        "id": "BZdgw3OLwWpW"
      },
      "execution_count": null,
      "outputs": []
    }
  ]
}